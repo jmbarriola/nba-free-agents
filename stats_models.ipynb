{
 "cells": [
  {
   "cell_type": "code",
   "execution_count": 21,
   "metadata": {},
   "outputs": [],
   "source": [
    "import pandas as pd\n",
    "import glob\n",
    "import matplotlib.pyplot as plt\n",
    "import seaborn as sns\n",
    "import statsmodels.api as sm\n",
    "import numpy as np\n",
    "\n",
    "from sklearn.metrics import r2_score, mean_squared_error, median_absolute_error\n",
    "\n",
    "from sklearn.preprocessing import StandardScaler\n",
    "\n",
    "scaler = StandardScaler()\n"
   ]
  },
  {
   "cell_type": "code",
   "execution_count": 2,
   "metadata": {},
   "outputs": [],
   "source": [
    "def evaluate_predictions(model, dataset_type, y_pred, y_truth):\n",
    "    rmse = np.round(np.sqrt(mean_squared_error(y_truth, y_pred)), 0)\n",
    "    mae = np.round(median_absolute_error(y_truth, y_pred), 0)\n",
    "    return {'model': [model], 'dataset_type': [dataset_type], 'rmse':[rmse], 'mae': [mae]}\n",
    "\n",
    "def diagnostics_plots(y_pred, y_truth):\n",
    "    \n",
    "    diag_plot = pd.DataFrame({'y_pred':y_pred,'y':y_truth, 'error': y_pred-y_truth})\n",
    "    diag_plot.plot.scatter(x='y',y='y_pred')\n",
    "    plt.plot([0,max(y_truth)], [0,max(y_truth)], c='black')\n",
    "    plt.show()"
   ]
  },
  {
   "cell_type": "code",
   "execution_count": 3,
   "metadata": {},
   "outputs": [],
   "source": [
    "l = sorted(glob.glob('datasets/*/free_agents_salaries_with_stats.csv'))"
   ]
  },
  {
   "cell_type": "code",
   "execution_count": 4,
   "metadata": {},
   "outputs": [],
   "source": [
    "df = pd.concat([pd.read_csv(f) for f in l])"
   ]
  },
  {
   "cell_type": "code",
   "execution_count": 5,
   "metadata": {},
   "outputs": [],
   "source": [
    "df = df[~df.team_id.isna()]"
   ]
  },
  {
   "cell_type": "code",
   "execution_count": 6,
   "metadata": {},
   "outputs": [],
   "source": [
    "STATS_COLUMNS = [\"player\", \"position\", \"age\",\"team_id\",\"g\",\"gs\",\"mp_per_g\",\"fg_per_g\",\n",
    "\"fga_per_g\",\"fg_pct\",\"fg3_per_g\",\"fg3a_per_g\",\"fg3_pct\",\"fg2_per_g\",\"fg2a_per_g\",\n",
    "\"fg2_pct\",\"efg_pct\",\"ft_per_g\",\"fta_per_g\",\"ft_pct\",\"orb_per_g\",\"drb_per_g\",\"trb_per_g\",\n",
    "\"ast_per_g\",\"stl_per_g\",\"blk_per_g\",\"tov_per_g\",\"pf_per_g\",\"pts_per_g\"]\n",
    "NUM_STATS_COLUMNS = [col for col in STATS_COLUMNS if col not in ('\"player\", \"position\",\"team_id\"')]\n",
    "\n",
    "ADVANCED_STATS_COLUMNS =[\"player\",\"position\",\"age\",\"team_id\",\"g\",\"mp\",\"per\",\"ts_pct\",\"fg3a_per_fga_pct\",\n",
    "\"fta_per_fga_pct\",\"orb_pct\",\"drb_pct\",\"trb_pct\",\"ast_pct\",\"stl_pct\",\"blk_pct\",\"tov_pct\",\"usg_pct\",\n",
    "                         \"ows\",\"dws\",\"ws\",\"ws_per_48\",\"obpm\",\"dbpm\",\"bpm\",\"vorp\"]\n",
    "\n",
    "NUM_ADVANCED_STATS_COLUMNS = [col for col in ADVANCED_STATS_COLUMNS if col not in ('\"player\", \"position\",\"team_id\"')]\n",
    "INJURIES_COLUMNS = ['out_for_season', 'out_indefinitely','acum_out_for_season', 'acum_out_indefinitely']"
   ]
  },
  {
   "cell_type": "code",
   "execution_count": 7,
   "metadata": {},
   "outputs": [],
   "source": [
    "year=[2012,2013,2014,2015,2016,2017,2018, 2019, 2020]\n",
    "min_salary =[473604, 473604, 490180, 507336, 525093, 543471, 815615, 838464, 898310]\n",
    "min_salary_df = pd.DataFrame({'free_agency_year':year, 'min_salary':min_salary})"
   ]
  },
  {
   "cell_type": "code",
   "execution_count": 8,
   "metadata": {},
   "outputs": [],
   "source": [
    "df =  pd.merge(df, min_salary_df).query('mean_salary>min_salary').drop(columns='min_salary')"
   ]
  },
  {
   "cell_type": "code",
   "execution_count": 9,
   "metadata": {},
   "outputs": [],
   "source": [
    "# Generar info para todos los anos, hay faltantes\n",
    "injuries = pd.read_csv('datasets/full_injuries.csv')\n",
    "df = pd.merge(df, injuries, how='left', left_on=['player', 'free_agency_year'], right_on=['player', 'year'])"
   ]
  },
  {
   "cell_type": "code",
   "execution_count": 10,
   "metadata": {},
   "outputs": [],
   "source": [
    "df = df.drop(columns=['ws-dum', 'bpm-dum']).fillna(0)"
   ]
  },
  {
   "cell_type": "code",
   "execution_count": 11,
   "metadata": {},
   "outputs": [],
   "source": [
    "relevant_cols = list(set(NUM_STATS_COLUMNS + NUM_ADVANCED_STATS_COLUMNS + ['position'] + INJURIES_COLUMNS))"
   ]
  },
  {
   "cell_type": "code",
   "execution_count": 12,
   "metadata": {},
   "outputs": [],
   "source": [
    "X = df[relevant_cols+['free_agency_year']]\n",
    "y = df[['mean_salary','free_agency_year']]"
   ]
  },
  {
   "cell_type": "code",
   "execution_count": 13,
   "metadata": {},
   "outputs": [
    {
     "name": "stderr",
     "output_type": "stream",
     "text": [
      "/home/juan/anaconda3/envs/jmb_ds_projects/lib/python3.7/site-packages/ipykernel_launcher.py:1: SettingWithCopyWarning: \n",
      "A value is trying to be set on a copy of a slice from a DataFrame.\n",
      "Try using .loc[row_indexer,col_indexer] = value instead\n",
      "\n",
      "See the caveats in the documentation: https://pandas.pydata.org/pandas-docs/stable/user_guide/indexing.html#returning-a-view-versus-a-copy\n",
      "  \"\"\"Entry point for launching an IPython kernel.\n"
     ]
    }
   ],
   "source": [
    "X['position'] = X.position.str.split('-').apply(lambda x: x[0])\n",
    "X = pd.get_dummies(X, columns=[\"position\"])"
   ]
  },
  {
   "cell_type": "code",
   "execution_count": 14,
   "metadata": {},
   "outputs": [],
   "source": [
    "train_X, test_X = X.query('free_agency_year < 2020').drop('free_agency_year', axis=1).values,\\\n",
    "                  X.query('free_agency_year == 2020').drop('free_agency_year', axis=1).values\n",
    "train_y, test_y = y.query('free_agency_year < 2020').drop('free_agency_year', axis=1).mean_salary.values,\\\n",
    "                    y.query('free_agency_year == 2020').drop('free_agency_year', axis=1).mean_salary.values"
   ]
  },
  {
   "cell_type": "markdown",
   "metadata": {},
   "source": [
    "### Regresión lineal"
   ]
  },
  {
   "cell_type": "code",
   "execution_count": 15,
   "metadata": {},
   "outputs": [],
   "source": [
    "?sm.OLS"
   ]
  },
  {
   "cell_type": "code",
   "execution_count": 16,
   "metadata": {},
   "outputs": [
    {
     "name": "stdout",
     "output_type": "stream",
     "text": [
      "                            OLS Regression Results                            \n",
      "==============================================================================\n",
      "Dep. Variable:                      y   R-squared:                       0.691\n",
      "Model:                            OLS   Adj. R-squared:                  0.671\n",
      "Method:                 Least Squares   F-statistic:                     35.29\n",
      "Date:                Sun, 13 Jun 2021   Prob (F-statistic):          1.72e-183\n",
      "Time:                        18:17:33   Log-Likelihood:                -15358.\n",
      "No. Observations:                 925   AIC:                         3.083e+04\n",
      "Df Residuals:                     869   BIC:                         3.110e+04\n",
      "Df Model:                          55                                         \n",
      "Covariance Type:            nonrobust                                         \n",
      "==============================================================================\n",
      "                 coef    std err          t      P>|t|      [0.025      0.975]\n",
      "------------------------------------------------------------------------------\n",
      "x1         -4.578e+06   6.03e+06     -0.759      0.448   -1.64e+07    7.25e+06\n",
      "x2          1.887e+06   4.57e+05      4.130      0.000     9.9e+05    2.78e+06\n",
      "x3          1.387e+04   9293.878      1.493      0.136   -4369.375    3.21e+04\n",
      "x4          -1.36e+05   3.86e+04     -3.525      0.000   -2.12e+05   -6.03e+04\n",
      "x5         -1.101e+06   1.49e+06     -0.740      0.459   -4.02e+06    1.82e+06\n",
      "x6         -4.242e+06   9.65e+05     -4.397      0.000   -6.14e+06   -2.35e+06\n",
      "x7          3.153e+05   7.05e+05      0.447      0.655   -1.07e+06     1.7e+06\n",
      "x8         -2.263e+06   2.73e+06     -0.828      0.408   -7.62e+06     3.1e+06\n",
      "x9          7.167e+04   1.83e+05      0.392      0.695   -2.87e+05     4.3e+05\n",
      "x10         8.374e+05   2.05e+06      0.409      0.683   -3.18e+06    4.86e+06\n",
      "x11        -1.197e+06   4.39e+05     -2.728      0.006   -2.06e+06   -3.36e+05\n",
      "x12         2.265e+06   1.22e+06      1.853      0.064   -1.34e+05    4.66e+06\n",
      "x13         2.375e+06    2.7e+06      0.880      0.379   -2.92e+06    7.67e+06\n",
      "x14        -8.267e+04   2.71e+06     -0.031      0.976    -5.4e+06    5.23e+06\n",
      "x15        -1.365e+07   3.56e+07     -0.383      0.702   -8.35e+07    5.62e+07\n",
      "x16        -1.736e+06   2.25e+06     -0.770      0.441   -6.16e+06    2.69e+06\n",
      "x17        -3.958e+06   1.72e+07     -0.230      0.818   -3.77e+07    2.98e+07\n",
      "x18         3.115e+06   2.78e+06      1.122      0.262   -2.33e+06    8.56e+06\n",
      "x19         1.913e+06      4e+06      0.479      0.632   -5.93e+06    9.76e+06\n",
      "x20         6.669e+05   8.39e+05      0.795      0.427   -9.79e+05    2.31e+06\n",
      "x21         1.993e+06   1.78e+06      1.117      0.264   -1.51e+06     5.5e+06\n",
      "x22        -2.641e+06   3.21e+06     -0.823      0.410   -8.93e+06    3.65e+06\n",
      "x23        -5.425e+05   3.84e+05     -1.413      0.158    -1.3e+06    2.11e+05\n",
      "x24         1.967e+05   4.48e+05      0.439      0.660   -6.82e+05    1.08e+06\n",
      "x25         7.745e+05    2.7e+06      0.287      0.774   -4.53e+06    6.08e+06\n",
      "x26         9.453e+05   1.17e+06      0.807      0.420   -1.35e+06    3.25e+06\n",
      "x27         3.795e+04   7.21e+04      0.526      0.599   -1.04e+05     1.8e+05\n",
      "x28         2.129e+06   2.72e+06      0.784      0.433    -3.2e+06    7.46e+06\n",
      "x29         -2.53e+06   2.98e+06     -0.848      0.397   -8.38e+06    3.33e+06\n",
      "x30         2.418e+05   3.22e+05      0.750      0.453   -3.91e+05    8.74e+05\n",
      "x31         1.283e+06    2.8e+06      0.459      0.646    -4.2e+06    6.77e+06\n",
      "x32        -1.073e+06   6.02e+05     -1.781      0.075   -2.26e+06     1.1e+05\n",
      "x33         5.584e+06   5.34e+06      1.045      0.296   -4.91e+06    1.61e+07\n",
      "x34        -3.534e+04   1.96e+05     -0.181      0.857   -4.19e+05    3.49e+05\n",
      "x35        -5.248e+04   2.45e+04     -2.144      0.032   -1.01e+05   -4429.212\n",
      "x36         1.475e+05   7.62e+04      1.936      0.053   -2027.031    2.97e+05\n",
      "x37        -1.156e+06   6.75e+05     -1.714      0.087   -2.48e+06    1.68e+05\n",
      "x38        -4.115e+05   7.09e+05     -0.580      0.562    -1.8e+06    9.81e+05\n",
      "x39         6.464e+05   1.92e+06      0.337      0.736   -3.12e+06    4.41e+06\n",
      "x40        -5.903e+05   1.27e+05     -4.650      0.000   -8.39e+05   -3.41e+05\n",
      "x41         1050.8835   1286.267      0.817      0.414   -1473.669    3575.436\n",
      "x42         5.757e+06   4.31e+06      1.335      0.182    -2.7e+06    1.42e+07\n",
      "x43         9.501e+05   4.98e+05      1.910      0.057   -2.64e+04    1.93e+06\n",
      "x44         4.338e+04   1.51e+06      0.029      0.977   -2.92e+06    3.01e+06\n",
      "x45         1.755e+07   3.67e+07      0.478      0.633   -5.45e+07    8.96e+07\n",
      "x46        -1.279e+06   2.73e+06     -0.468      0.640   -6.64e+06    4.08e+06\n",
      "x47        -7.571e+06   2.05e+07     -0.369      0.712   -4.78e+07    3.27e+07\n",
      "x48        -2.553e+05   1.71e+05     -1.491      0.136   -5.91e+05    8.07e+04\n",
      "x49        -1.904e+06   2.95e+06     -0.646      0.518   -7.69e+06    3.88e+06\n",
      "x50        -2.373e+06   2.73e+06     -0.870      0.384   -7.72e+06    2.98e+06\n",
      "x51         1.436e+06   2.96e+06      0.485      0.628   -4.37e+06    7.24e+06\n",
      "x52         1.189e+07   5.07e+06      2.344      0.019    1.93e+06    2.18e+07\n",
      "x53         1.205e+07   5.01e+06      2.406      0.016    2.22e+06    2.19e+07\n",
      "x54         1.055e+07   5.06e+06      2.084      0.037    6.16e+05    2.05e+07\n",
      "x55         1.257e+07   5.01e+06      2.511      0.012    2.74e+06    2.24e+07\n",
      "x56          1.18e+07   5.02e+06      2.352      0.019    1.95e+06    2.16e+07\n",
      "==============================================================================\n",
      "Omnibus:                       86.066   Durbin-Watson:                   1.643\n",
      "Prob(Omnibus):                  0.000   Jarque-Bera (JB):              196.051\n",
      "Skew:                           0.540   Prob(JB):                     2.68e-43\n",
      "Kurtosis:                       4.980   Cond. No.                     5.94e+05\n",
      "==============================================================================\n",
      "\n",
      "Warnings:\n",
      "[1] Standard Errors assume that the covariance matrix of the errors is correctly specified.\n",
      "[2] The condition number is large, 5.94e+05. This might indicate that there are\n",
      "strong multicollinearity or other numerical problems.\n"
     ]
    }
   ],
   "source": [
    "mod = sm.OLS(train_y, train_X, hasconst=True)\n",
    "\n",
    "res = mod.fit()\n",
    "\n",
    "print(res.summary())"
   ]
  },
  {
   "cell_type": "code",
   "execution_count": 17,
   "metadata": {
    "scrolled": false
   },
   "outputs": [
    {
     "name": "stderr",
     "output_type": "stream",
     "text": [
      "/home/juan/anaconda3/envs/jmb_ds_projects/lib/python3.7/site-packages/ipykernel_launcher.py:1: DeprecationWarning: Calling Family(..) with a link class as argument is deprecated.\n",
      "Use an instance of a link class instead.\n",
      "  \"\"\"Entry point for launching an IPython kernel.\n"
     ]
    }
   ],
   "source": [
    "gamma_model = sm.GLM(endog=train_y, exog=train_X, family=sm.families.Gamma(link=sm.families.links.log))"
   ]
  },
  {
   "cell_type": "code",
   "execution_count": 18,
   "metadata": {},
   "outputs": [
    {
     "name": "stdout",
     "output_type": "stream",
     "text": [
      "                 Generalized Linear Model Regression Results                  \n",
      "==============================================================================\n",
      "Dep. Variable:                      y   No. Observations:                  925\n",
      "Model:                            GLM   Df Residuals:                      869\n",
      "Model Family:                   Gamma   Df Model:                           55\n",
      "Link Function:                    log   Scale:                         0.42470\n",
      "Method:                          IRLS   Log-Likelihood:                -14899.\n",
      "Date:                Sun, 13 Jun 2021   Deviance:                       326.99\n",
      "Time:                        18:17:33   Pearson chi2:                     369.\n",
      "No. Iterations:                    26                                         \n",
      "Covariance Type:            nonrobust                                         \n",
      "==============================================================================\n",
      "                 coef    std err          z      P>|z|      [0.025      0.975]\n",
      "------------------------------------------------------------------------------\n",
      "x1             0.7411      0.969      0.765      0.444      -1.158       2.641\n",
      "x2             0.1874      0.073      2.551      0.011       0.043       0.331\n",
      "x3            -0.0016      0.001     -1.068      0.286      -0.005       0.001\n",
      "x4            -0.0199      0.006     -3.214      0.001      -0.032      -0.008\n",
      "x5            -0.1116      0.239     -0.467      0.641      -0.580       0.357\n",
      "x6            -0.2788      0.155     -1.797      0.072      -0.583       0.025\n",
      "x7            -0.1637      0.113     -1.444      0.149      -0.386       0.058\n",
      "x8             0.0615      0.439      0.140      0.889      -0.799       0.922\n",
      "x9            -0.0007      0.029     -0.023      0.982      -0.058       0.057\n",
      "x10            0.3486      0.329      1.059      0.290      -0.297       0.994\n",
      "x11           -0.1191      0.071     -1.689      0.091      -0.257       0.019\n",
      "x12            0.1633      0.196      0.831      0.406      -0.222       0.548\n",
      "x13            0.4351      0.434      1.003      0.316      -0.415       1.285\n",
      "x14           -0.1126      0.435     -0.259      0.796      -0.966       0.741\n",
      "x15            5.1995      5.724      0.908      0.364      -6.019      16.418\n",
      "x16           -0.6031      0.362     -1.665      0.096      -1.313       0.107\n",
      "x17           -3.9750      2.761     -1.439      0.150      -9.387       1.437\n",
      "x18            0.0239      0.446      0.054      0.957      -0.851       0.898\n",
      "x19            0.8316      0.643      1.294      0.196      -0.428       2.092\n",
      "x20            0.0564      0.135      0.418      0.676      -0.208       0.321\n",
      "x21           -0.2503      0.287     -0.873      0.383      -0.813       0.312\n",
      "x22           -0.2508      0.516     -0.486      0.627      -1.261       0.760\n",
      "x23           -0.0261      0.062     -0.422      0.673      -0.147       0.095\n",
      "x24            0.0490      0.072      0.682      0.495      -0.092       0.190\n",
      "x25            0.2716      0.434      0.625      0.532      -0.580       1.123\n",
      "x26            0.1731      0.188      0.919      0.358      -0.196       0.542\n",
      "x27           -0.0031      0.012     -0.267      0.790      -0.026       0.020\n",
      "x28            0.0113      0.437      0.026      0.979      -0.845       0.867\n",
      "x29           -0.5100      0.480     -1.063      0.288      -1.450       0.430\n",
      "x30           -0.0455      0.052     -0.877      0.380      -0.147       0.056\n",
      "x31           -0.1660      0.449     -0.369      0.712      -1.047       0.715\n",
      "x32           -0.0613      0.097     -0.633      0.527      -0.251       0.129\n",
      "x33            0.7947      0.859      0.925      0.355      -0.889       2.479\n",
      "x34            0.0315      0.031      1.003      0.316      -0.030       0.093\n",
      "x35           -0.0016      0.004     -0.398      0.691      -0.009       0.006\n",
      "x36            0.0039      0.012      0.317      0.751      -0.020       0.028\n",
      "x37           -0.0785      0.108     -0.724      0.469      -0.291       0.134\n",
      "x38           -0.3060      0.114     -2.684      0.007      -0.529      -0.083\n",
      "x39           -0.2523      0.309     -0.818      0.414      -0.857       0.352\n",
      "x40           -0.0130      0.020     -0.637      0.524      -0.053       0.027\n",
      "x41         7.588e-05      0.000      0.367      0.714      -0.000       0.000\n",
      "x42            0.9588      0.693      1.383      0.167      -0.400       2.317\n",
      "x43            0.0584      0.080      0.730      0.465      -0.098       0.215\n",
      "x44            0.2688      0.243      1.106      0.269      -0.208       0.745\n",
      "x45           -6.4672      5.901     -1.096      0.273     -18.032       5.098\n",
      "x46            0.1102      0.439      0.251      0.802      -0.751       0.971\n",
      "x47            2.6310      3.297      0.798      0.425      -3.831       9.093\n",
      "x48           -0.0116      0.028     -0.422      0.673      -0.066       0.042\n",
      "x49           -0.2991      0.474     -0.631      0.528      -1.227       0.629\n",
      "x50            0.1116      0.438      0.254      0.799      -0.748       0.971\n",
      "x51            0.3149      0.476      0.662      0.508      -0.617       1.247\n",
      "x52           14.8672      0.816     18.227      0.000      13.269      16.466\n",
      "x53           14.7190      0.805     18.280      0.000      13.141      16.297\n",
      "x54           14.5215      0.813     17.851      0.000      12.927      16.116\n",
      "x55           14.6372      0.805     18.190      0.000      13.060      16.214\n",
      "x56           14.6496      0.806     18.170      0.000      13.069      16.230\n",
      "==============================================================================\n"
     ]
    }
   ],
   "source": [
    "gamma_results = gamma_model.fit()\n",
    "\n",
    "print(gamma_results.summary())"
   ]
  },
  {
   "cell_type": "code",
   "execution_count": 19,
   "metadata": {},
   "outputs": [],
   "source": [
    "train_y_pred = gamma_results.predict(train_X)"
   ]
  },
  {
   "cell_type": "code",
   "execution_count": 22,
   "metadata": {},
   "outputs": [
    {
     "data": {
      "text/plain": [
       "{'model': ['xgboost'],\n",
       " 'dataset_type': ['test'],\n",
       " 'rmse': [4435408.0],\n",
       " 'mae': [1666077.0]}"
      ]
     },
     "execution_count": 22,
     "metadata": {},
     "output_type": "execute_result"
    }
   ],
   "source": [
    "evaluate_predictions('xgboost', 'test', train_y_pred, train_y)"
   ]
  },
  {
   "cell_type": "code",
   "execution_count": 23,
   "metadata": {},
   "outputs": [
    {
     "data": {
      "image/png": "[encoded data removed]",
      "text/plain": [
       "<Figure size 432x288 with 1 Axes>"
      ]
     },
     "metadata": {
      "needs_background": "light"
     },
     "output_type": "display_data"
    }
   ],
   "source": [
    "diagnostics_plots(train_y_pred, train_y)"
   ]
  },
  {
   "cell_type": "code",
   "execution_count": 25,
   "metadata": {},
   "outputs": [],
   "source": [
    "test_y_pred = gamma_results.predict(test_X)"
   ]
  },
  {
   "cell_type": "code",
   "execution_count": 26,
   "metadata": {},
   "outputs": [
    {
     "data": {
      "text/plain": [
       "{'model': ['modelo lineal'],\n",
       " 'dataset_type': ['test'],\n",
       " 'rmse': [4862778.0],\n",
       " 'mae': [1456809.0]}"
      ]
     },
     "execution_count": 26,
     "metadata": {},
     "output_type": "execute_result"
    }
   ],
   "source": [
    "evaluate_predictions('modelo lineal', 'test', test_y_pred, test_y)"
   ]
  },
  {
   "cell_type": "code",
   "execution_count": 27,
   "metadata": {},
   "outputs": [
    {
     "data": {
      "image/png": "[encoded data removed]",
      "text/plain": [
       "<Figure size 432x288 with 1 Axes>"
      ]
     },
     "metadata": {
      "needs_background": "light"
     },
     "output_type": "display_data"
    }
   ],
   "source": [
    "diagnostics_plots(test_y_pred, test_y)"
   ]
  },
  {
   "cell_type": "code",
   "execution_count": null,
   "metadata": {},
   "outputs": [],
   "source": []
  }
 ],
 "metadata": {
  "kernelspec": {
   "display_name": "Python 3",
   "language": "python",
   "name": "python3"
  },
  "language_info": {
   "codemirror_mode": {
    "name": "ipython",
    "version": 3
   },
   "file_extension": ".py",
   "mimetype": "text/x-python",
   "name": "python",
   "nbconvert_exporter": "python",
   "pygments_lexer": "ipython3",
   "version": "3.7.3"
  },
  "varInspector": {
   "cols": {
    "lenName": 16,
    "lenType": 16,
    "lenVar": 40
   },
   "kernels_config": {
    "python": {
     "delete_cmd_postfix": "",
     "delete_cmd_prefix": "del ",
     "library": "var_list.py",
     "varRefreshCmd": "print(var_dic_list())"
    },
    "r": {
     "delete_cmd_postfix": ") ",
     "delete_cmd_prefix": "rm(",
     "library": "var_list.r",
     "varRefreshCmd": "cat(var_dic_list()) "
    }
   },
   "types_to_exclude": [
    "module",
    "function",
    "builtin_function_or_method",
    "instance",
    "_Feature"
   ],
   "window_display": false
  }
 },
 "nbformat": 4,
 "nbformat_minor": 2
}
