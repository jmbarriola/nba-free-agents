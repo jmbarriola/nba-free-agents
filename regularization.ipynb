{
 "cells": [
  {
   "cell_type": "code",
   "execution_count": 1,
   "metadata": {},
   "outputs": [
    {
     "name": "stderr",
     "output_type": "stream",
     "text": [
      "/home/juan/anaconda3/envs/jmb_ds_projects/lib/python3.7/site-packages/statsmodels/tools/_testing.py:19: FutureWarning: pandas.util.testing is deprecated. Use the functions in the public API at pandas.testing instead.\n",
      "  import pandas.util.testing as tm\n"
     ]
    }
   ],
   "source": [
    "import pandas as pd\n",
    "import glob\n",
    "import matplotlib.pyplot as plt\n",
    "import seaborn as sns\n",
    "import numpy as np\n",
    "\n",
    "from sklearn.linear_model import LassoCV, RidgeCV, ElasticNetCV\n",
    "from sklearn import linear_model as lm\n",
    "\n",
    "from sklearn.metrics import mean_squared_error, median_absolute_error, mean_absolute_percentage_error\n",
    "\n",
    "from sklearn.preprocessing import StandardScaler\n"
   ]
  },
  {
   "cell_type": "code",
   "execution_count": 2,
   "metadata": {},
   "outputs": [],
   "source": [
    "SEED=1992"
   ]
  },
  {
   "cell_type": "code",
   "execution_count": 3,
   "metadata": {},
   "outputs": [],
   "source": [
    "STATS_COLUMNS = [\"player\", \"position\", \"age\",\"team_id\",\"g\",\"gs\",\"mp_per_g\",\"fg_per_g\",\n",
    "\"fga_per_g\",\"fg_pct\",\"fg3_per_g\",\"fg3a_per_g\",\"fg3_pct\",\"fg2_per_g\",\"fg2a_per_g\",\n",
    "\"fg2_pct\",\"efg_pct\",\"ft_per_g\",\"fta_per_g\",\"ft_pct\",\"orb_per_g\",\"drb_per_g\",\"trb_per_g\",\n",
    "\"ast_per_g\",\"stl_per_g\",\"blk_per_g\",\"tov_per_g\",\"pf_per_g\",\"pts_per_g\"]\n",
    "NUM_STATS_COLUMNS = [col for col in STATS_COLUMNS if col not in ('\"player\", \"position\",\"team_id\"')]\n",
    "\n",
    "ADVANCED_STATS_COLUMNS =[\"player\",\"position\",\"age\",\"team_id\",\"g\",\"mp\",\"per\",\"ts_pct\",\"fg3a_per_fga_pct\",\n",
    "\"fta_per_fga_pct\",\"orb_pct\",\"drb_pct\",\"trb_pct\",\"ast_pct\",\"stl_pct\",\"blk_pct\",\"tov_pct\",\"usg_pct\",\n",
    "                         \"ows\",\"dws\",\"ws\",\"ws_per_48\",\"obpm\",\"dbpm\",\"bpm\",\"vorp\"]\n",
    "\n",
    "NUM_ADVANCED_STATS_COLUMNS = [col for col in ADVANCED_STATS_COLUMNS if col not in ('\"player\", \"position\",\"team_id\"')]\n",
    "INJURIES_COLUMNS = ['out_for_season', 'out_indefinitely','acum_out_for_season', 'acum_out_indefinitely']"
   ]
  },
  {
   "cell_type": "code",
   "execution_count": 4,
   "metadata": {},
   "outputs": [],
   "source": [
    "df = pd.read_csv('datasets/preprocessed_dataset.csv').fillna(0)\n",
    "results_df = pd.read_csv('datasets/results/performance_metrics.csv')"
   ]
  },
  {
   "cell_type": "code",
   "execution_count": 5,
   "metadata": {},
   "outputs": [],
   "source": [
    "relevant_cols = list(set(NUM_STATS_COLUMNS + NUM_ADVANCED_STATS_COLUMNS + ['position'] + INJURIES_COLUMNS))"
   ]
  },
  {
   "cell_type": "code",
   "execution_count": 6,
   "metadata": {},
   "outputs": [],
   "source": [
    "def evaluate_predictions(model, dataset_type, y_pred, y_truth):\n",
    "    rmse = np.round(np.sqrt(mean_squared_error(y_truth, y_pred)), 0)\n",
    "    mae = np.round(median_absolute_error(y_truth, y_pred), 0)\n",
    "    mape = np.round(mean_absolute_percentage_error(y_truth, y_pred), 4)\n",
    "    return {'model': [model], 'dataset_type': [dataset_type], 'rmse':[rmse], 'mae': [mae], 'mape':[mape]}\n",
    "\n",
    "class PredictionEvaluation:\n",
    "    \n",
    "    def __init__(self, y_pred_train, y_truth_train, y_pred_test, y_truth_test, model_name, results_df):\n",
    "        self.y_pred_train = y_pred_train\n",
    "        self.y_truth_train = y_truth_train\n",
    "        self.y_pred_test = y_pred_test\n",
    "        self.y_truth_test = y_truth_test\n",
    "        self.model_name = model_name\n",
    "        self.results_df = results_df        \n",
    "    \n",
    "    def fill_results_df(self):\n",
    "        train_results = pd.DataFrame(evaluate_predictions(self.model_name, 'train',\n",
    "                                                          self.y_pred_train, self.y_truth_train))\n",
    "        test_results = pd.DataFrame(evaluate_predictions(self.model_name, 'test',\n",
    "                                                         self.y_pred_test, self.y_truth_test))\n",
    "        return pd.concat([self.results_df, train_results, test_results])\n",
    "\n",
    "    def diagnostics_plots(y_pred, y_truth):\n",
    "    \n",
    "        diag_plot = pd.DataFrame({'y_pred':y_pred,'y':y_truth, 'error': y_pred-y_truth})\n",
    "        diag_plot.plot.scatter(x='y',y='y_pred')\n",
    "        plt.plot([0,max(y_truth)], [0,max(y_truth)], c='black')\n",
    "        plt.show()"
   ]
  },
  {
   "cell_type": "code",
   "execution_count": 7,
   "metadata": {},
   "outputs": [],
   "source": [
    "X = df[relevant_cols+['free_agency_year']]\n",
    "y = df[['mean_salary','free_agency_year']]"
   ]
  },
  {
   "cell_type": "code",
   "execution_count": 8,
   "metadata": {
    "scrolled": true
   },
   "outputs": [
    {
     "name": "stderr",
     "output_type": "stream",
     "text": [
      "/home/juan/anaconda3/envs/jmb_ds_projects/lib/python3.7/site-packages/ipykernel_launcher.py:1: SettingWithCopyWarning: \n",
      "A value is trying to be set on a copy of a slice from a DataFrame.\n",
      "Try using .loc[row_indexer,col_indexer] = value instead\n",
      "\n",
      "See the caveats in the documentation: https://pandas.pydata.org/pandas-docs/stable/user_guide/indexing.html#returning-a-view-versus-a-copy\n",
      "  \"\"\"Entry point for launching an IPython kernel.\n"
     ]
    }
   ],
   "source": [
    "X['position'] = X.position.str.split('-').apply(lambda x: x[0])\n",
    "X = pd.get_dummies(X, columns=[\"position\"])"
   ]
  },
  {
   "cell_type": "code",
   "execution_count": 9,
   "metadata": {},
   "outputs": [],
   "source": [
    "rel_cols = list(sorted([c for c in X.columns if c!='free_agency_year']))"
   ]
  },
  {
   "cell_type": "code",
   "execution_count": 10,
   "metadata": {},
   "outputs": [],
   "source": [
    "train_X, test_X = X.query('free_agency_year < 2020').drop('free_agency_year', axis=1).values,\\\n",
    "                  X.query('free_agency_year == 2020').drop('free_agency_year', axis=1).values\n",
    "train_y, test_y = y.query('free_agency_year < 2020').drop('free_agency_year', axis=1).mean_salary.values,\\\n",
    "                    y.query('free_agency_year == 2020').drop('free_agency_year', axis=1).mean_salary.values"
   ]
  },
  {
   "cell_type": "code",
   "execution_count": 11,
   "metadata": {},
   "outputs": [],
   "source": [
    "scaler = StandardScaler().fit(train_X)"
   ]
  },
  {
   "cell_type": "code",
   "execution_count": 12,
   "metadata": {},
   "outputs": [],
   "source": [
    "train_X = scaler.transform(train_X)"
   ]
  },
  {
   "cell_type": "code",
   "execution_count": 13,
   "metadata": {},
   "outputs": [],
   "source": [
    "test_X = scaler.transform(test_X)"
   ]
  },
  {
   "cell_type": "markdown",
   "metadata": {},
   "source": [
    "### Lasso"
   ]
  },
  {
   "cell_type": "code",
   "execution_count": 14,
   "metadata": {},
   "outputs": [],
   "source": [
    "reg = LassoCV(cv=5, random_state=SEED, max_iter=10000, n_alphas=300).fit(train_X, train_y)"
   ]
  },
  {
   "cell_type": "code",
   "execution_count": 15,
   "metadata": {},
   "outputs": [],
   "source": [
    "mean_mse = np.median(reg.mse_path_, axis=1)\n",
    "alphas = reg.alphas_\n",
    "cv_mse_df = pd.DataFrame({'alpha':alphas, 'mean_mse':mean_mse})"
   ]
  },
  {
   "cell_type": "code",
   "execution_count": 16,
   "metadata": {},
   "outputs": [
    {
     "data": {
      "text/plain": [
       "14304.918736836387"
      ]
     },
     "execution_count": 16,
     "metadata": {},
     "output_type": "execute_result"
    }
   ],
   "source": [
    "reg.alpha_"
   ]
  },
  {
   "cell_type": "code",
   "execution_count": 17,
   "metadata": {},
   "outputs": [
    {
     "data": {
      "text/plain": [
       "<matplotlib.axes._subplots.AxesSubplot at 0x7fcb1439e9b0>"
      ]
     },
     "execution_count": 17,
     "metadata": {},
     "output_type": "execute_result"
    },
    {
     "data": {
      "image/png": "[encoded data removed]",
      "text/plain": [
       "<Figure size 432x288 with 1 Axes>"
      ]
     },
     "metadata": {
      "needs_background": "light"
     },
     "output_type": "display_data"
    }
   ],
   "source": [
    "cv_mse_df.query(\"alpha<20000\").plot(x='alpha', y='mean_mse')"
   ]
  },
  {
   "cell_type": "code",
   "execution_count": 18,
   "metadata": {},
   "outputs": [],
   "source": [
    "clf = lm.Lasso(alpha=reg.alpha_, max_iter=10000, random_state=SEED)"
   ]
  },
  {
   "cell_type": "code",
   "execution_count": 19,
   "metadata": {
    "scrolled": true
   },
   "outputs": [
    {
     "data": {
      "text/plain": [
       "Lasso(alpha=14304.918736836387, max_iter=10000, random_state=1992)"
      ]
     },
     "execution_count": 19,
     "metadata": {},
     "output_type": "execute_result"
    }
   ],
   "source": [
    "clf.fit(train_X, train_y)"
   ]
  },
  {
   "cell_type": "code",
   "execution_count": 20,
   "metadata": {},
   "outputs": [],
   "source": [
    "train_y_pred = clf.predict(train_X)\n",
    "test_y_pred = clf.predict(test_X)"
   ]
  },
  {
   "cell_type": "code",
   "execution_count": 21,
   "metadata": {},
   "outputs": [],
   "source": [
    "lasso_evaluation = PredictionEvaluation(train_y_pred, train_y, test_y_pred,\n",
    "                                           test_y, 'lasso', results_df)\n",
    "\n",
    "results_df = lasso_evaluation.fill_results_df()"
   ]
  },
  {
   "cell_type": "markdown",
   "metadata": {},
   "source": [
    "### Lasso LARS"
   ]
  },
  {
   "cell_type": "code",
   "execution_count": 19,
   "metadata": {},
   "outputs": [],
   "source": [
    "from sklearn.linear_model import LassoLarsCV\n"
   ]
  },
  {
   "cell_type": "code",
   "execution_count": 20,
   "metadata": {},
   "outputs": [
    {
     "data": {
      "text/plain": [
       "LassoLarsCV(cv=5)"
      ]
     },
     "execution_count": 20,
     "metadata": {},
     "output_type": "execute_result"
    }
   ],
   "source": [
    "lasso_lars = LassoLarsCV(cv=5)\n",
    "lasso_lars.fit(train_X, train_y)"
   ]
  },
  {
   "cell_type": "code",
   "execution_count": 23,
   "metadata": {},
   "outputs": [
    {
     "data": {
      "text/plain": [
       "0.6839982057607661"
      ]
     },
     "execution_count": 23,
     "metadata": {},
     "output_type": "execute_result"
    }
   ],
   "source": [
    "lasso_lars.score(train_X, train_y)"
   ]
  },
  {
   "cell_type": "code",
   "execution_count": 24,
   "metadata": {},
   "outputs": [
    {
     "data": {
      "text/plain": [
       "528.2660155361128"
      ]
     },
     "execution_count": 24,
     "metadata": {},
     "output_type": "execute_result"
    }
   ],
   "source": [
    "lasso_lars.alpha_"
   ]
  },
  {
   "cell_type": "code",
   "execution_count": 25,
   "metadata": {},
   "outputs": [
    {
     "data": {
      "text/plain": [
       "array([[1.44450554e+13, 1.99868164e+13, 2.76779934e+13, 2.19304950e+13,\n",
       "        2.07277621e+13],\n",
       "       [1.44450554e+13, 1.99868164e+13, 2.76779934e+13, 2.19304950e+13,\n",
       "        2.07277621e+13],\n",
       "       [1.44450554e+13, 1.99868164e+13, 2.76779934e+13, 2.19304950e+13,\n",
       "        2.07277621e+13],\n",
       "       ...,\n",
       "       [2.17798842e+13, 2.64881662e+13, 6.95800284e+13, 7.17533068e+13,\n",
       "        6.77297476e+13],\n",
       "       [2.18499124e+13, 2.64881662e+13, 6.95800284e+13, 7.17533068e+13,\n",
       "        6.77297476e+13],\n",
       "       [2.21079858e+13, 2.64881662e+13, 6.95800284e+13, 7.17533068e+13,\n",
       "        6.77297476e+13]])"
      ]
     },
     "execution_count": 25,
     "metadata": {},
     "output_type": "execute_result"
    }
   ],
   "source": [
    "lasso_lars.mse_path_"
   ]
  },
  {
   "cell_type": "code",
   "execution_count": 31,
   "metadata": {},
   "outputs": [
    {
     "data": {
      "text/plain": [
       "[]"
      ]
     },
     "execution_count": 31,
     "metadata": {},
     "output_type": "execute_result"
    },
    {
     "data": {
      "image/png": "[encoded data removed]",
      "text/plain": [
       "<Figure size 432x288 with 1 Axes>"
      ]
     },
     "metadata": {
      "needs_background": "light"
     },
     "output_type": "display_data"
    }
   ],
   "source": [
    "plt.plot(x=range(56), y=lasso_lars.mse_path_)"
   ]
  },
  {
   "cell_type": "code",
   "execution_count": 26,
   "metadata": {},
   "outputs": [
    {
     "data": {
      "text/plain": [
       "56"
      ]
     },
     "execution_count": 26,
     "metadata": {},
     "output_type": "execute_result"
    }
   ],
   "source": [
    "lasso_lars.n_iter_"
   ]
  },
  {
   "cell_type": "code",
   "execution_count": 32,
   "metadata": {},
   "outputs": [],
   "source": [
    "train_y_pred = lasso_lars.predict(train_X)\n",
    "test_y_pred = lasso_lars.predict(test_X)"
   ]
  },
  {
   "cell_type": "code",
   "execution_count": 33,
   "metadata": {},
   "outputs": [],
   "source": [
    "lasso_evaluation = PredictionEvaluation(train_y_pred, train_y, test_y_pred,\n",
    "                                           test_y, 'lasso_lars', results_df)"
   ]
  },
  {
   "cell_type": "code",
   "execution_count": 35,
   "metadata": {},
   "outputs": [
    {
     "data": {
      "text/html": [
       "<div>\n",
       "<style scoped>\n",
       "    .dataframe tbody tr th:only-of-type {\n",
       "        vertical-align: middle;\n",
       "    }\n",
       "\n",
       "    .dataframe tbody tr th {\n",
       "        vertical-align: top;\n",
       "    }\n",
       "\n",
       "    .dataframe thead th {\n",
       "        text-align: right;\n",
       "    }\n",
       "</style>\n",
       "<table border=\"1\" class=\"dataframe\">\n",
       "  <thead>\n",
       "    <tr style=\"text-align: right;\">\n",
       "      <th></th>\n",
       "      <th>model</th>\n",
       "      <th>dataset_type</th>\n",
       "      <th>rmse</th>\n",
       "      <th>mae</th>\n",
       "      <th>mape</th>\n",
       "    </tr>\n",
       "  </thead>\n",
       "  <tbody>\n",
       "    <tr>\n",
       "      <th>0</th>\n",
       "      <td>baseline</td>\n",
       "      <td>train</td>\n",
       "      <td>7046669.0</td>\n",
       "      <td>4191739.0</td>\n",
       "      <td>1.7206</td>\n",
       "    </tr>\n",
       "    <tr>\n",
       "      <th>1</th>\n",
       "      <td>baseline</td>\n",
       "      <td>test</td>\n",
       "      <td>6136372.0</td>\n",
       "      <td>3988694.0</td>\n",
       "      <td>1.5356</td>\n",
       "    </tr>\n",
       "    <tr>\n",
       "      <th>2</th>\n",
       "      <td>modelo lineal</td>\n",
       "      <td>train</td>\n",
       "      <td>3924033.0</td>\n",
       "      <td>2111549.0</td>\n",
       "      <td>0.8302</td>\n",
       "    </tr>\n",
       "    <tr>\n",
       "      <th>3</th>\n",
       "      <td>modelo lineal</td>\n",
       "      <td>test</td>\n",
       "      <td>3559228.0</td>\n",
       "      <td>2088352.0</td>\n",
       "      <td>0.8496</td>\n",
       "    </tr>\n",
       "    <tr>\n",
       "      <th>4</th>\n",
       "      <td>modelo lineal no negativo</td>\n",
       "      <td>train</td>\n",
       "      <td>4343415.0</td>\n",
       "      <td>2166715.0</td>\n",
       "      <td>0.8812</td>\n",
       "    </tr>\n",
       "    <tr>\n",
       "      <th>5</th>\n",
       "      <td>modelo lineal no negativo</td>\n",
       "      <td>test</td>\n",
       "      <td>3798000.0</td>\n",
       "      <td>1817943.0</td>\n",
       "      <td>0.7398</td>\n",
       "    </tr>\n",
       "    <tr>\n",
       "      <th>6</th>\n",
       "      <td>modelo lineal logaritmo</td>\n",
       "      <td>train</td>\n",
       "      <td>4492837.0</td>\n",
       "      <td>1382346.0</td>\n",
       "      <td>0.5387</td>\n",
       "    </tr>\n",
       "    <tr>\n",
       "      <th>7</th>\n",
       "      <td>modelo lineal logaritmo</td>\n",
       "      <td>test</td>\n",
       "      <td>4095432.0</td>\n",
       "      <td>1059238.0</td>\n",
       "      <td>0.4941</td>\n",
       "    </tr>\n",
       "    <tr>\n",
       "      <th>8</th>\n",
       "      <td>lasso</td>\n",
       "      <td>train</td>\n",
       "      <td>3958471.0</td>\n",
       "      <td>2031632.0</td>\n",
       "      <td>0.8034</td>\n",
       "    </tr>\n",
       "    <tr>\n",
       "      <th>9</th>\n",
       "      <td>lasso</td>\n",
       "      <td>test</td>\n",
       "      <td>3501706.0</td>\n",
       "      <td>1819077.0</td>\n",
       "      <td>0.7776</td>\n",
       "    </tr>\n",
       "    <tr>\n",
       "      <th>10</th>\n",
       "      <td>ridge</td>\n",
       "      <td>train</td>\n",
       "      <td>3952017.0</td>\n",
       "      <td>2040080.0</td>\n",
       "      <td>0.8102</td>\n",
       "    </tr>\n",
       "    <tr>\n",
       "      <th>11</th>\n",
       "      <td>ridge</td>\n",
       "      <td>test</td>\n",
       "      <td>3518823.0</td>\n",
       "      <td>1890600.0</td>\n",
       "      <td>0.8033</td>\n",
       "    </tr>\n",
       "    <tr>\n",
       "      <th>12</th>\n",
       "      <td>elastic net</td>\n",
       "      <td>train</td>\n",
       "      <td>3958453.0</td>\n",
       "      <td>2031660.0</td>\n",
       "      <td>0.8035</td>\n",
       "    </tr>\n",
       "    <tr>\n",
       "      <th>13</th>\n",
       "      <td>elastic net</td>\n",
       "      <td>test</td>\n",
       "      <td>3501755.0</td>\n",
       "      <td>1819124.0</td>\n",
       "      <td>0.7777</td>\n",
       "    </tr>\n",
       "    <tr>\n",
       "      <th>14</th>\n",
       "      <td>xgboost best cv</td>\n",
       "      <td>train</td>\n",
       "      <td>1228752.0</td>\n",
       "      <td>538511.0</td>\n",
       "      <td>0.2422</td>\n",
       "    </tr>\n",
       "    <tr>\n",
       "      <th>15</th>\n",
       "      <td>xgboost best cv</td>\n",
       "      <td>test</td>\n",
       "      <td>3604844.0</td>\n",
       "      <td>1185345.0</td>\n",
       "      <td>0.5074</td>\n",
       "    </tr>\n",
       "    <tr>\n",
       "      <th>0</th>\n",
       "      <td>lasso_lars</td>\n",
       "      <td>train</td>\n",
       "      <td>3961217.0</td>\n",
       "      <td>2040010.0</td>\n",
       "      <td>0.8021</td>\n",
       "    </tr>\n",
       "    <tr>\n",
       "      <th>0</th>\n",
       "      <td>lasso_lars</td>\n",
       "      <td>test</td>\n",
       "      <td>3495053.0</td>\n",
       "      <td>1810654.0</td>\n",
       "      <td>0.7690</td>\n",
       "    </tr>\n",
       "  </tbody>\n",
       "</table>\n",
       "</div>"
      ],
      "text/plain": [
       "                        model dataset_type       rmse        mae    mape\n",
       "0                    baseline        train  7046669.0  4191739.0  1.7206\n",
       "1                    baseline         test  6136372.0  3988694.0  1.5356\n",
       "2               modelo lineal        train  3924033.0  2111549.0  0.8302\n",
       "3               modelo lineal         test  3559228.0  2088352.0  0.8496\n",
       "4   modelo lineal no negativo        train  4343415.0  2166715.0  0.8812\n",
       "5   modelo lineal no negativo         test  3798000.0  1817943.0  0.7398\n",
       "6     modelo lineal logaritmo        train  4492837.0  1382346.0  0.5387\n",
       "7     modelo lineal logaritmo         test  4095432.0  1059238.0  0.4941\n",
       "8                       lasso        train  3958471.0  2031632.0  0.8034\n",
       "9                       lasso         test  3501706.0  1819077.0  0.7776\n",
       "10                      ridge        train  3952017.0  2040080.0  0.8102\n",
       "11                      ridge         test  3518823.0  1890600.0  0.8033\n",
       "12                elastic net        train  3958453.0  2031660.0  0.8035\n",
       "13                elastic net         test  3501755.0  1819124.0  0.7777\n",
       "14            xgboost best cv        train  1228752.0   538511.0  0.2422\n",
       "15            xgboost best cv         test  3604844.0  1185345.0  0.5074\n",
       "0                  lasso_lars        train  3961217.0  2040010.0  0.8021\n",
       "0                  lasso_lars         test  3495053.0  1810654.0  0.7690"
      ]
     },
     "execution_count": 35,
     "metadata": {},
     "output_type": "execute_result"
    }
   ],
   "source": [
    "results_df = lasso_evaluation.fill_results_df()\n",
    "results_df"
   ]
  },
  {
   "cell_type": "markdown",
   "metadata": {},
   "source": [
    "## Ridge"
   ]
  },
  {
   "cell_type": "code",
   "execution_count": 22,
   "metadata": {},
   "outputs": [
    {
     "name": "stderr",
     "output_type": "stream",
     "text": [
      "/home/juan/anaconda3/envs/jmb_ds_projects/lib/python3.7/site-packages/sklearn/linear_model/_ridge.py:148: LinAlgWarning: Ill-conditioned matrix (rcond=1.67512e-17): result may not be accurate.\n",
      "  overwrite_a=True).T\n"
     ]
    }
   ],
   "source": [
    "reg = RidgeCV(cv=5, alphas=np.arange(0,10,0.05)).fit(train_X, train_y)"
   ]
  },
  {
   "cell_type": "code",
   "execution_count": 23,
   "metadata": {},
   "outputs": [
    {
     "data": {
      "text/plain": [
       "5.3500000000000005"
      ]
     },
     "execution_count": 23,
     "metadata": {},
     "output_type": "execute_result"
    }
   ],
   "source": [
    "reg.alpha_"
   ]
  },
  {
   "cell_type": "code",
   "execution_count": 24,
   "metadata": {},
   "outputs": [],
   "source": [
    "clf = lm.Ridge(alpha=reg.alpha_, random_state=SEED)"
   ]
  },
  {
   "cell_type": "code",
   "execution_count": 25,
   "metadata": {},
   "outputs": [
    {
     "data": {
      "text/plain": [
       "Ridge(alpha=5.3500000000000005, random_state=1992)"
      ]
     },
     "execution_count": 25,
     "metadata": {},
     "output_type": "execute_result"
    }
   ],
   "source": [
    "clf.fit(train_X, train_y)"
   ]
  },
  {
   "cell_type": "code",
   "execution_count": 26,
   "metadata": {},
   "outputs": [],
   "source": [
    "train_y_pred = clf.predict(train_X)\n",
    "test_y_pred = clf.predict(test_X)\n",
    "\n",
    "ridge_evaluation = PredictionEvaluation(train_y_pred, train_y, test_y_pred,\n",
    "                                           test_y, 'ridge', results_df)\n",
    "\n",
    "results_df = ridge_evaluation.fill_results_df()"
   ]
  },
  {
   "cell_type": "markdown",
   "metadata": {},
   "source": [
    "### Elastic Net"
   ]
  },
  {
   "cell_type": "code",
   "execution_count": 27,
   "metadata": {},
   "outputs": [],
   "source": [
    "regr = ElasticNetCV(l1_ratio=[.1, .5, .7, .9, .95, .975, .99, 1],\n",
    "                    n_alphas=400,\n",
    "                    cv=5, max_iter=10000, random_state=SEED).fit(train_X, train_y)"
   ]
  },
  {
   "cell_type": "code",
   "execution_count": 28,
   "metadata": {},
   "outputs": [
    {
     "data": {
      "text/plain": [
       "14292.499899789696"
      ]
     },
     "execution_count": 28,
     "metadata": {},
     "output_type": "execute_result"
    }
   ],
   "source": [
    "regr.alpha_"
   ]
  },
  {
   "cell_type": "code",
   "execution_count": 29,
   "metadata": {},
   "outputs": [
    {
     "data": {
      "text/plain": [
       "1.0"
      ]
     },
     "execution_count": 29,
     "metadata": {},
     "output_type": "execute_result"
    }
   ],
   "source": [
    "regr.l1_ratio_"
   ]
  },
  {
   "cell_type": "code",
   "execution_count": 30,
   "metadata": {},
   "outputs": [
    {
     "data": {
      "text/plain": [
       "ElasticNet(alpha=14292.499899789696, l1_ratio=1.0, max_iter=10000,\n",
       "           random_state=1992)"
      ]
     },
     "execution_count": 30,
     "metadata": {},
     "output_type": "execute_result"
    }
   ],
   "source": [
    "clf = lm.ElasticNet(alpha=regr.alpha_, l1_ratio=regr.l1_ratio_, max_iter=10000, random_state=SEED)\n",
    "clf.fit(train_X, train_y)"
   ]
  },
  {
   "cell_type": "code",
   "execution_count": 31,
   "metadata": {},
   "outputs": [],
   "source": [
    "train_y_pred = clf.predict(train_X)\n",
    "test_y_pred = clf.predict(test_X)\n",
    "\n",
    "elastic_evaluation = PredictionEvaluation(train_y_pred, train_y, test_y_pred,\n",
    "                                           test_y, 'elastic net', results_df)\n",
    "\n",
    "results_df = elastic_evaluation.fill_results_df()"
   ]
  },
  {
   "cell_type": "code",
   "execution_count": 32,
   "metadata": {},
   "outputs": [],
   "source": [
    "results_df.to_csv('datasets/results/performance_metrics.csv', index=False)"
   ]
  },
  {
   "cell_type": "code",
   "execution_count": 35,
   "metadata": {},
   "outputs": [
    {
     "name": "stdout",
     "output_type": "stream",
     "text": [
      "\\begin{tabular}{lllrrr}\n",
      "\\toprule\n",
      "{} &                      model & dataset\\_type &       rmse &        mae &    mape \\\\\n",
      "\\midrule\n",
      "0 &                   baseline &        train &  7046669.0 &  4191739.0 &  1.7206 \\\\\n",
      "1 &                   baseline &         test &  6136372.0 &  3988694.0 &  1.5356 \\\\\n",
      "2 &              modelo lineal &        train &  3924033.0 &  2111549.0 &  0.8302 \\\\\n",
      "3 &              modelo lineal &         test &  3559228.0 &  2088352.0 &  0.8496 \\\\\n",
      "4 &  modelo lineal no negativo &        train &  4343415.0 &  2166715.0 &  0.8812 \\\\\n",
      "5 &  modelo lineal no negativo &         test &  3798000.0 &  1817943.0 &  0.7398 \\\\\n",
      "6 &    modelo lineal logaritmo &        train &  4492837.0 &  1382346.0 &  0.5387 \\\\\n",
      "7 &    modelo lineal logaritmo &         test &  4095432.0 &  1059238.0 &  0.4941 \\\\\n",
      "0 &                      lasso &        train &  3958471.0 &  2031632.0 &  0.8034 \\\\\n",
      "0 &                      lasso &         test &  3501706.0 &  1819077.0 &  0.7776 \\\\\n",
      "0 &                      ridge &        train &  3952017.0 &  2040080.0 &  0.8102 \\\\\n",
      "0 &                      ridge &         test &  3518823.0 &  1890600.0 &  0.8033 \\\\\n",
      "0 &                elastic net &        train &  3958453.0 &  2031660.0 &  0.8035 \\\\\n",
      "0 &                elastic net &         test &  3501755.0 &  1819124.0 &  0.7777 \\\\\n",
      "\\bottomrule\n",
      "\\end{tabular}\n",
      "\n"
     ]
    }
   ],
   "source": [
    "print(results_df.to_latex())"
   ]
  },
  {
   "cell_type": "markdown",
   "metadata": {},
   "source": [
    "# Regularization with log"
   ]
  },
  {
   "cell_type": "code",
   "execution_count": 35,
   "metadata": {},
   "outputs": [],
   "source": [
    "lasso_log_cv = LassoCV(cv=5, random_state=SEED, max_iter=10000, n_alphas=300).fit(train_X, np.log(train_y))"
   ]
  },
  {
   "cell_type": "code",
   "execution_count": 36,
   "metadata": {},
   "outputs": [],
   "source": [
    "lasso_log = lm.Lasso(alpha=lasso_log_cv.alpha_, max_iter=10000, random_state=SEED)"
   ]
  },
  {
   "cell_type": "code",
   "execution_count": 37,
   "metadata": {},
   "outputs": [
    {
     "data": {
      "text/plain": [
       "Lasso(alpha=0.0073195322181818494, max_iter=10000, random_state=1992)"
      ]
     },
     "execution_count": 37,
     "metadata": {},
     "output_type": "execute_result"
    }
   ],
   "source": [
    "lasso_log.fit(train_X, np.log(train_y))"
   ]
  },
  {
   "cell_type": "code",
   "execution_count": 38,
   "metadata": {},
   "outputs": [],
   "source": [
    "train_y_pred = np.exp(lasso_log.predict(train_X))\n",
    "test_y_pred = np.exp(lasso_log.predict(test_X))"
   ]
  },
  {
   "cell_type": "code",
   "execution_count": null,
   "metadata": {},
   "outputs": [],
   "source": []
  }
 ],
 "metadata": {
  "kernelspec": {
   "display_name": "Python 3",
   "language": "python",
   "name": "python3"
  },
  "language_info": {
   "codemirror_mode": {
    "name": "ipython",
    "version": 3
   },
   "file_extension": ".py",
   "mimetype": "text/x-python",
   "name": "python",
   "nbconvert_exporter": "python",
   "pygments_lexer": "ipython3",
   "version": "3.7.3"
  },
  "varInspector": {
   "cols": {
    "lenName": 16,
    "lenType": 16,
    "lenVar": 40
   },
   "kernels_config": {
    "python": {
     "delete_cmd_postfix": "",
     "delete_cmd_prefix": "del ",
     "library": "var_list.py",
     "varRefreshCmd": "print(var_dic_list())"
    },
    "r": {
     "delete_cmd_postfix": ") ",
     "delete_cmd_prefix": "rm(",
     "library": "var_list.r",
     "varRefreshCmd": "cat(var_dic_list()) "
    }
   },
   "types_to_exclude": [
    "module",
    "function",
    "builtin_function_or_method",
    "instance",
    "_Feature"
   ],
   "window_display": false
  }
 },
 "nbformat": 4,
 "nbformat_minor": 2
}
