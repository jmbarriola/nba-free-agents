{
 "cells": [
  {
   "cell_type": "code",
   "execution_count": 1,
   "metadata": {},
   "outputs": [],
   "source": [
    "import pandas as pd\n",
    "import numpy as np"
   ]
  },
  {
   "cell_type": "code",
   "execution_count": 8,
   "metadata": {},
   "outputs": [],
   "source": [
    "injuries = pd.read_csv('datasets/injuries_2010-2020.csv.zip', parse_dates=['Date'])"
   ]
  },
  {
   "cell_type": "code",
   "execution_count": 9,
   "metadata": {},
   "outputs": [],
   "source": [
    "injuries = injuries.dropna(subset=['Relinquished'])"
   ]
  },
  {
   "cell_type": "code",
   "execution_count": 10,
   "metadata": {},
   "outputs": [
    {
     "data": {
      "text/html": [
       "<div>\n",
       "<style scoped>\n",
       "    .dataframe tbody tr th:only-of-type {\n",
       "        vertical-align: middle;\n",
       "    }\n",
       "\n",
       "    .dataframe tbody tr th {\n",
       "        vertical-align: top;\n",
       "    }\n",
       "\n",
       "    .dataframe thead th {\n",
       "        text-align: right;\n",
       "    }\n",
       "</style>\n",
       "<table border=\"1\" class=\"dataframe\">\n",
       "  <thead>\n",
       "    <tr style=\"text-align: right;\">\n",
       "      <th></th>\n",
       "      <th>Date</th>\n",
       "      <th>Team</th>\n",
       "      <th>Acquired</th>\n",
       "      <th>Relinquished</th>\n",
       "      <th>Notes</th>\n",
       "    </tr>\n",
       "  </thead>\n",
       "  <tbody>\n",
       "    <tr>\n",
       "      <th>0</th>\n",
       "      <td>2010-10-03</td>\n",
       "      <td>Bulls</td>\n",
       "      <td>NaN</td>\n",
       "      <td>Carlos Boozer</td>\n",
       "      <td>fractured bone in right pinky finger (out inde...</td>\n",
       "    </tr>\n",
       "    <tr>\n",
       "      <th>1</th>\n",
       "      <td>2010-10-06</td>\n",
       "      <td>Pistons</td>\n",
       "      <td>NaN</td>\n",
       "      <td>Jonas Jerebko</td>\n",
       "      <td>torn right Achilles tendon (out indefinitely)</td>\n",
       "    </tr>\n",
       "    <tr>\n",
       "      <th>2</th>\n",
       "      <td>2010-10-06</td>\n",
       "      <td>Pistons</td>\n",
       "      <td>NaN</td>\n",
       "      <td>Terrico White</td>\n",
       "      <td>broken fifth metatarsal in right foot (out ind...</td>\n",
       "    </tr>\n",
       "    <tr>\n",
       "      <th>3</th>\n",
       "      <td>2010-10-08</td>\n",
       "      <td>Blazers</td>\n",
       "      <td>NaN</td>\n",
       "      <td>Jeff Ayres</td>\n",
       "      <td>torn ACL in right knee (out indefinitely)</td>\n",
       "    </tr>\n",
       "    <tr>\n",
       "      <th>4</th>\n",
       "      <td>2010-10-08</td>\n",
       "      <td>Nets</td>\n",
       "      <td>NaN</td>\n",
       "      <td>Troy Murphy</td>\n",
       "      <td>strained lower back (out indefinitely)</td>\n",
       "    </tr>\n",
       "    <tr>\n",
       "      <th>...</th>\n",
       "      <td>...</td>\n",
       "      <td>...</td>\n",
       "      <td>...</td>\n",
       "      <td>...</td>\n",
       "      <td>...</td>\n",
       "    </tr>\n",
       "    <tr>\n",
       "      <th>27097</th>\n",
       "      <td>2020-09-22</td>\n",
       "      <td>Celtics</td>\n",
       "      <td>NaN</td>\n",
       "      <td>Romeo Langford</td>\n",
       "      <td>surgery on right wrist (out for season)</td>\n",
       "    </tr>\n",
       "    <tr>\n",
       "      <th>27098</th>\n",
       "      <td>2020-09-23</td>\n",
       "      <td>Heat</td>\n",
       "      <td>NaN</td>\n",
       "      <td>Gabe Vincent</td>\n",
       "      <td>sore right knee (DTD)</td>\n",
       "    </tr>\n",
       "    <tr>\n",
       "      <th>27099</th>\n",
       "      <td>2020-09-30</td>\n",
       "      <td>Heat</td>\n",
       "      <td>NaN</td>\n",
       "      <td>Bam Adebayo</td>\n",
       "      <td>strained left shoulder (DTD)</td>\n",
       "    </tr>\n",
       "    <tr>\n",
       "      <th>27101</th>\n",
       "      <td>2020-10-02</td>\n",
       "      <td>Heat</td>\n",
       "      <td>NaN</td>\n",
       "      <td>Bam Adebayo</td>\n",
       "      <td>strained neck (DTD)</td>\n",
       "    </tr>\n",
       "    <tr>\n",
       "      <th>27102</th>\n",
       "      <td>2020-10-02</td>\n",
       "      <td>Heat</td>\n",
       "      <td>NaN</td>\n",
       "      <td>Goran Dragic</td>\n",
       "      <td>placed on IL with torn plantar fascia in left ...</td>\n",
       "    </tr>\n",
       "  </tbody>\n",
       "</table>\n",
       "<p>17560 rows × 5 columns</p>\n",
       "</div>"
      ],
      "text/plain": [
       "            Date     Team Acquired    Relinquished  \\\n",
       "0     2010-10-03    Bulls      NaN   Carlos Boozer   \n",
       "1     2010-10-06  Pistons      NaN   Jonas Jerebko   \n",
       "2     2010-10-06  Pistons      NaN   Terrico White   \n",
       "3     2010-10-08  Blazers      NaN      Jeff Ayres   \n",
       "4     2010-10-08     Nets      NaN     Troy Murphy   \n",
       "...          ...      ...      ...             ...   \n",
       "27097 2020-09-22  Celtics      NaN  Romeo Langford   \n",
       "27098 2020-09-23     Heat      NaN    Gabe Vincent   \n",
       "27099 2020-09-30     Heat      NaN     Bam Adebayo   \n",
       "27101 2020-10-02     Heat      NaN     Bam Adebayo   \n",
       "27102 2020-10-02     Heat      NaN    Goran Dragic   \n",
       "\n",
       "                                                   Notes  \n",
       "0      fractured bone in right pinky finger (out inde...  \n",
       "1          torn right Achilles tendon (out indefinitely)  \n",
       "2      broken fifth metatarsal in right foot (out ind...  \n",
       "3              torn ACL in right knee (out indefinitely)  \n",
       "4                 strained lower back (out indefinitely)  \n",
       "...                                                  ...  \n",
       "27097            surgery on right wrist (out for season)  \n",
       "27098                              sore right knee (DTD)  \n",
       "27099                       strained left shoulder (DTD)  \n",
       "27101                                strained neck (DTD)  \n",
       "27102  placed on IL with torn plantar fascia in left ...  \n",
       "\n",
       "[17560 rows x 5 columns]"
      ]
     },
     "execution_count": 10,
     "metadata": {},
     "output_type": "execute_result"
    }
   ],
   "source": [
    "injuries"
   ]
  },
  {
   "cell_type": "code",
   "execution_count": 11,
   "metadata": {},
   "outputs": [
    {
     "data": {
      "text/plain": [
       "placed on IL                              3389\n",
       "sprained left ankle (DNP)                  362\n",
       "rest (DTD)                                 286\n",
       "placed on IL with illness                  274\n",
       "placed on IL with sprained left ankle      230\n",
       "illness (DTD)                              228\n",
       "placed on IL with sprained right ankle     206\n",
       "sprained left ankle (DTD)                  188\n",
       "sprained right ankle (DNP)                 175\n",
       "placed on IL for rest                      175\n",
       "sprained right ankle (DTD)                 166\n",
       "sore left knee (DNP)                       144\n",
       "placed on IL with sore left knee           128\n",
       "rest (DNP)                                 119\n",
       "placed on IL with sore right knee          119\n",
       "sore right knee (DNP)                      109\n",
       "sore left knee (DTD)                       109\n",
       "illness (DNP)                              100\n",
       "sore right knee (DTD)                       97\n",
       "concussion (DNP)                            96\n",
       "Name: Notes, dtype: int64"
      ]
     },
     "execution_count": 11,
     "metadata": {},
     "output_type": "execute_result"
    }
   ],
   "source": [
    "injuries.Notes.value_counts().head(20)"
   ]
  },
  {
   "cell_type": "code",
   "execution_count": 12,
   "metadata": {},
   "outputs": [],
   "source": [
    "injuries['out_for_season'] = injuries.Notes.str.contains('out for season')\n",
    "injuries['out_indefinitely'] = injuries.Notes.str.contains('out indefinitely')\n",
    "injuries['year'] = injuries.Date.dt.year\n",
    "injuries['month'] = injuries.Date.dt.month"
   ]
  },
  {
   "cell_type": "code",
   "execution_count": 13,
   "metadata": {},
   "outputs": [],
   "source": [
    "injuries['year'] = np.where(injuries['month']<=6, injuries['year'], injuries['year'] + 1)"
   ]
  },
  {
   "cell_type": "code",
   "execution_count": 14,
   "metadata": {},
   "outputs": [],
   "source": [
    "injuries_by_year = injuries.groupby(['Relinquished', 'year'])\\\n",
    "                            .agg(out_for_season = ('out_for_season', 'sum'),\n",
    "                                 out_indefinitely = ('out_indefinitely', 'sum'),).reset_index()\n",
    "injuries_by_year = injuries_by_year.rename(columns={'Relinquished':'player'})\n",
    "injuries_by_year['player'] = injuries_by_year.player.str.strip()\n"
   ]
  },
  {
   "cell_type": "code",
   "execution_count": 15,
   "metadata": {},
   "outputs": [],
   "source": [
    "injuries_by_year = injuries_by_year.sort_values(['player', 'year'])"
   ]
  },
  {
   "cell_type": "code",
   "execution_count": 16,
   "metadata": {},
   "outputs": [],
   "source": [
    "injuries_by_year['out_for_season'] = np.where(injuries_by_year['out_for_season']>=1,\n",
    "                                              1, 0)"
   ]
  },
  {
   "cell_type": "code",
   "execution_count": 25,
   "metadata": {},
   "outputs": [],
   "source": [
    "years = injuries_by_year.year.unique()\n",
    "players = injuries_by_year.player.unique()"
   ]
  },
  {
   "cell_type": "code",
   "execution_count": 38,
   "metadata": {},
   "outputs": [],
   "source": [
    "players_list = np.repeat(players, len(years))\n",
    "years_list =  list(years) * len(players)\n",
    "joined_df = pd.DataFrame({'player': players_list, 'year': years_list})"
   ]
  },
  {
   "cell_type": "code",
   "execution_count": 41,
   "metadata": {},
   "outputs": [
    {
     "data": {
      "text/plain": [
       "2018    466\n",
       "2017    416\n",
       "2016    401\n",
       "2015    401\n",
       "2011    392\n",
       "2013    382\n",
       "2020    379\n",
       "2019    372\n",
       "2012    366\n",
       "2014    365\n",
       "2021    137\n",
       "Name: year, dtype: int64"
      ]
     },
     "execution_count": 41,
     "metadata": {},
     "output_type": "execute_result"
    }
   ],
   "source": [
    "injuries_by_year.year.value_counts()"
   ]
  },
  {
   "cell_type": "code",
   "execution_count": 43,
   "metadata": {},
   "outputs": [],
   "source": [
    "injuries_by_year = pd.merge(joined_df, injuries_by_year, how='left').fillna(0).sort_values(['player', 'year'])"
   ]
  },
  {
   "cell_type": "code",
   "execution_count": 45,
   "metadata": {},
   "outputs": [],
   "source": [
    "acum_injuries = injuries_by_year.groupby(['player'])[['out_for_season', 'out_indefinitely']].cumsum()\n",
    "acum_injuries = acum_injuries.rename(columns={'out_for_season':'acum_out_for_season',\n",
    "                                                   'out_indefinitely':'acum_out_indefinitely'})"
   ]
  },
  {
   "cell_type": "code",
   "execution_count": 46,
   "metadata": {},
   "outputs": [
    {
     "data": {
      "text/html": [
       "<div>\n",
       "<style scoped>\n",
       "    .dataframe tbody tr th:only-of-type {\n",
       "        vertical-align: middle;\n",
       "    }\n",
       "\n",
       "    .dataframe tbody tr th {\n",
       "        vertical-align: top;\n",
       "    }\n",
       "\n",
       "    .dataframe thead th {\n",
       "        text-align: right;\n",
       "    }\n",
       "</style>\n",
       "<table border=\"1\" class=\"dataframe\">\n",
       "  <thead>\n",
       "    <tr style=\"text-align: right;\">\n",
       "      <th></th>\n",
       "      <th>acum_out_for_season</th>\n",
       "      <th>acum_out_indefinitely</th>\n",
       "    </tr>\n",
       "  </thead>\n",
       "  <tbody>\n",
       "    <tr>\n",
       "      <th>3</th>\n",
       "      <td>0.0</td>\n",
       "      <td>0.0</td>\n",
       "    </tr>\n",
       "    <tr>\n",
       "      <th>4</th>\n",
       "      <td>0.0</td>\n",
       "      <td>0.0</td>\n",
       "    </tr>\n",
       "    <tr>\n",
       "      <th>5</th>\n",
       "      <td>0.0</td>\n",
       "      <td>0.0</td>\n",
       "    </tr>\n",
       "    <tr>\n",
       "      <th>6</th>\n",
       "      <td>0.0</td>\n",
       "      <td>0.0</td>\n",
       "    </tr>\n",
       "    <tr>\n",
       "      <th>7</th>\n",
       "      <td>0.0</td>\n",
       "      <td>0.0</td>\n",
       "    </tr>\n",
       "    <tr>\n",
       "      <th>...</th>\n",
       "      <td>...</td>\n",
       "      <td>...</td>\n",
       "    </tr>\n",
       "    <tr>\n",
       "      <th>12696</th>\n",
       "      <td>0.0</td>\n",
       "      <td>0.0</td>\n",
       "    </tr>\n",
       "    <tr>\n",
       "      <th>12697</th>\n",
       "      <td>0.0</td>\n",
       "      <td>0.0</td>\n",
       "    </tr>\n",
       "    <tr>\n",
       "      <th>12695</th>\n",
       "      <td>0.0</td>\n",
       "      <td>0.0</td>\n",
       "    </tr>\n",
       "    <tr>\n",
       "      <th>12704</th>\n",
       "      <td>0.0</td>\n",
       "      <td>0.0</td>\n",
       "    </tr>\n",
       "    <tr>\n",
       "      <th>12705</th>\n",
       "      <td>0.0</td>\n",
       "      <td>0.0</td>\n",
       "    </tr>\n",
       "  </tbody>\n",
       "</table>\n",
       "<p>12706 rows × 2 columns</p>\n",
       "</div>"
      ],
      "text/plain": [
       "       acum_out_for_season  acum_out_indefinitely\n",
       "3                      0.0                    0.0\n",
       "4                      0.0                    0.0\n",
       "5                      0.0                    0.0\n",
       "6                      0.0                    0.0\n",
       "7                      0.0                    0.0\n",
       "...                    ...                    ...\n",
       "12696                  0.0                    0.0\n",
       "12697                  0.0                    0.0\n",
       "12695                  0.0                    0.0\n",
       "12704                  0.0                    0.0\n",
       "12705                  0.0                    0.0\n",
       "\n",
       "[12706 rows x 2 columns]"
      ]
     },
     "execution_count": 46,
     "metadata": {},
     "output_type": "execute_result"
    }
   ],
   "source": [
    "acum_injuries"
   ]
  },
  {
   "cell_type": "code",
   "execution_count": 47,
   "metadata": {},
   "outputs": [],
   "source": [
    "full_injuries = injuries_by_year.join(acum_injuries)"
   ]
  },
  {
   "cell_type": "code",
   "execution_count": 49,
   "metadata": {},
   "outputs": [
    {
     "data": {
      "text/html": [
       "<div>\n",
       "<style scoped>\n",
       "    .dataframe tbody tr th:only-of-type {\n",
       "        vertical-align: middle;\n",
       "    }\n",
       "\n",
       "    .dataframe tbody tr th {\n",
       "        vertical-align: top;\n",
       "    }\n",
       "\n",
       "    .dataframe thead th {\n",
       "        text-align: right;\n",
       "    }\n",
       "</style>\n",
       "<table border=\"1\" class=\"dataframe\">\n",
       "  <thead>\n",
       "    <tr style=\"text-align: right;\">\n",
       "      <th></th>\n",
       "      <th>player</th>\n",
       "      <th>year</th>\n",
       "      <th>out_for_season</th>\n",
       "      <th>out_indefinitely</th>\n",
       "      <th>acum_out_for_season</th>\n",
       "      <th>acum_out_indefinitely</th>\n",
       "    </tr>\n",
       "  </thead>\n",
       "  <tbody>\n",
       "    <tr>\n",
       "      <th>696</th>\n",
       "      <td>Anthony Davis</td>\n",
       "      <td>2011</td>\n",
       "      <td>0.0</td>\n",
       "      <td>0.0</td>\n",
       "      <td>0.0</td>\n",
       "      <td>0.0</td>\n",
       "    </tr>\n",
       "    <tr>\n",
       "      <th>697</th>\n",
       "      <td>Anthony Davis</td>\n",
       "      <td>2012</td>\n",
       "      <td>0.0</td>\n",
       "      <td>0.0</td>\n",
       "      <td>0.0</td>\n",
       "      <td>0.0</td>\n",
       "    </tr>\n",
       "    <tr>\n",
       "      <th>698</th>\n",
       "      <td>Anthony Davis</td>\n",
       "      <td>2013</td>\n",
       "      <td>0.0</td>\n",
       "      <td>1.0</td>\n",
       "      <td>0.0</td>\n",
       "      <td>1.0</td>\n",
       "    </tr>\n",
       "    <tr>\n",
       "      <th>699</th>\n",
       "      <td>Anthony Davis</td>\n",
       "      <td>2014</td>\n",
       "      <td>0.0</td>\n",
       "      <td>1.0</td>\n",
       "      <td>0.0</td>\n",
       "      <td>2.0</td>\n",
       "    </tr>\n",
       "    <tr>\n",
       "      <th>700</th>\n",
       "      <td>Anthony Davis</td>\n",
       "      <td>2015</td>\n",
       "      <td>0.0</td>\n",
       "      <td>0.0</td>\n",
       "      <td>0.0</td>\n",
       "      <td>2.0</td>\n",
       "    </tr>\n",
       "    <tr>\n",
       "      <th>701</th>\n",
       "      <td>Anthony Davis</td>\n",
       "      <td>2016</td>\n",
       "      <td>1.0</td>\n",
       "      <td>0.0</td>\n",
       "      <td>1.0</td>\n",
       "      <td>2.0</td>\n",
       "    </tr>\n",
       "    <tr>\n",
       "      <th>694</th>\n",
       "      <td>Anthony Davis</td>\n",
       "      <td>2017</td>\n",
       "      <td>1.0</td>\n",
       "      <td>0.0</td>\n",
       "      <td>2.0</td>\n",
       "      <td>2.0</td>\n",
       "    </tr>\n",
       "    <tr>\n",
       "      <th>695</th>\n",
       "      <td>Anthony Davis</td>\n",
       "      <td>2018</td>\n",
       "      <td>0.0</td>\n",
       "      <td>0.0</td>\n",
       "      <td>2.0</td>\n",
       "      <td>2.0</td>\n",
       "    </tr>\n",
       "    <tr>\n",
       "      <th>693</th>\n",
       "      <td>Anthony Davis</td>\n",
       "      <td>2019</td>\n",
       "      <td>1.0</td>\n",
       "      <td>1.0</td>\n",
       "      <td>3.0</td>\n",
       "      <td>3.0</td>\n",
       "    </tr>\n",
       "    <tr>\n",
       "      <th>702</th>\n",
       "      <td>Anthony Davis</td>\n",
       "      <td>2020</td>\n",
       "      <td>0.0</td>\n",
       "      <td>0.0</td>\n",
       "      <td>3.0</td>\n",
       "      <td>3.0</td>\n",
       "    </tr>\n",
       "    <tr>\n",
       "      <th>703</th>\n",
       "      <td>Anthony Davis</td>\n",
       "      <td>2021</td>\n",
       "      <td>0.0</td>\n",
       "      <td>0.0</td>\n",
       "      <td>3.0</td>\n",
       "      <td>3.0</td>\n",
       "    </tr>\n",
       "  </tbody>\n",
       "</table>\n",
       "</div>"
      ],
      "text/plain": [
       "            player  year  out_for_season  out_indefinitely  \\\n",
       "696  Anthony Davis  2011             0.0               0.0   \n",
       "697  Anthony Davis  2012             0.0               0.0   \n",
       "698  Anthony Davis  2013             0.0               1.0   \n",
       "699  Anthony Davis  2014             0.0               1.0   \n",
       "700  Anthony Davis  2015             0.0               0.0   \n",
       "701  Anthony Davis  2016             1.0               0.0   \n",
       "694  Anthony Davis  2017             1.0               0.0   \n",
       "695  Anthony Davis  2018             0.0               0.0   \n",
       "693  Anthony Davis  2019             1.0               1.0   \n",
       "702  Anthony Davis  2020             0.0               0.0   \n",
       "703  Anthony Davis  2021             0.0               0.0   \n",
       "\n",
       "     acum_out_for_season  acum_out_indefinitely  \n",
       "696                  0.0                    0.0  \n",
       "697                  0.0                    0.0  \n",
       "698                  0.0                    1.0  \n",
       "699                  0.0                    2.0  \n",
       "700                  0.0                    2.0  \n",
       "701                  1.0                    2.0  \n",
       "694                  2.0                    2.0  \n",
       "695                  2.0                    2.0  \n",
       "693                  3.0                    3.0  \n",
       "702                  3.0                    3.0  \n",
       "703                  3.0                    3.0  "
      ]
     },
     "execution_count": 49,
     "metadata": {},
     "output_type": "execute_result"
    }
   ],
   "source": [
    "full_injuries[full_injuries.player.str.contains('Anthony Davis')]"
   ]
  },
  {
   "cell_type": "code",
   "execution_count": 50,
   "metadata": {},
   "outputs": [],
   "source": [
    "full_injuries.to_csv('datasets/full_injuries.csv', index=False)"
   ]
  },
  {
   "cell_type": "code",
   "execution_count": null,
   "metadata": {},
   "outputs": [],
   "source": []
  }
 ],
 "metadata": {
  "kernelspec": {
   "display_name": "Python 3",
   "language": "python",
   "name": "python3"
  },
  "language_info": {
   "codemirror_mode": {
    "name": "ipython",
    "version": 3
   },
   "file_extension": ".py",
   "mimetype": "text/x-python",
   "name": "python",
   "nbconvert_exporter": "python",
   "pygments_lexer": "ipython3",
   "version": "3.7.3"
  },
  "varInspector": {
   "cols": {
    "lenName": 16,
    "lenType": 16,
    "lenVar": 40
   },
   "kernels_config": {
    "python": {
     "delete_cmd_postfix": "",
     "delete_cmd_prefix": "del ",
     "library": "var_list.py",
     "varRefreshCmd": "print(var_dic_list())"
    },
    "r": {
     "delete_cmd_postfix": ") ",
     "delete_cmd_prefix": "rm(",
     "library": "var_list.r",
     "varRefreshCmd": "cat(var_dic_list()) "
    }
   },
   "types_to_exclude": [
    "module",
    "function",
    "builtin_function_or_method",
    "instance",
    "_Feature"
   ],
   "window_display": false
  }
 },
 "nbformat": 4,
 "nbformat_minor": 2
}
