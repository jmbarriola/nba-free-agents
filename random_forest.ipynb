{
 "cells": [
  {
   "cell_type": "code",
   "execution_count": 1,
   "metadata": {},
   "outputs": [
    {
     "name": "stderr",
     "output_type": "stream",
     "text": [
      "/home/juan/anaconda3/envs/jmb_ds_projects/lib/python3.7/site-packages/statsmodels/tools/_testing.py:19: FutureWarning: pandas.util.testing is deprecated. Use the functions in the public API at pandas.testing instead.\n",
      "  import pandas.util.testing as tm\n"
     ]
    }
   ],
   "source": [
    "import pandas as pd\n",
    "import glob\n",
    "import matplotlib.pyplot as plt\n",
    "import seaborn as sns\n",
    "from sklearn.ensemble import RandomForestRegressor\n",
    "\n",
    "from sklearn.metrics import mean_squared_error, median_absolute_error, mean_absolute_percentage_error\n",
    "from scipy.stats import uniform, randint\n",
    "\n",
    "from sklearn.model_selection import RandomizedSearchCV, GridSearchCV\n",
    "from sklearn.model_selection import RepeatedKFold, KFold\n"
   ]
  },
  {
   "cell_type": "code",
   "execution_count": 2,
   "metadata": {},
   "outputs": [],
   "source": [
    "STATS_COLUMNS = [\"player\", \"position\", \"age\",\"team_id\",\"g\",\"gs\",\"mp_per_g\",\"fg_per_g\",\n",
    "\"fga_per_g\",\"fg_pct\",\"fg3_per_g\",\"fg3a_per_g\",\"fg3_pct\",\"fg2_per_g\",\"fg2a_per_g\",\n",
    "\"fg2_pct\",\"efg_pct\",\"ft_per_g\",\"fta_per_g\",\"ft_pct\",\"orb_per_g\",\"drb_per_g\",\"trb_per_g\",\n",
    "\"ast_per_g\",\"stl_per_g\",\"blk_per_g\",\"tov_per_g\",\"pf_per_g\",\"pts_per_g\"]\n",
    "NUM_STATS_COLUMNS = [col for col in STATS_COLUMNS if col not in ('\"player\", \"position\",\"team_id\"')]\n",
    "\n",
    "ADVANCED_STATS_COLUMNS =[\"player\",\"position\",\"age\",\"team_id\",\"g\",\"mp\",\"per\",\"ts_pct\",\"fg3a_per_fga_pct\",\n",
    "\"fta_per_fga_pct\",\"orb_pct\",\"drb_pct\",\"trb_pct\",\"ast_pct\",\"stl_pct\",\"blk_pct\",\"tov_pct\",\"usg_pct\",\n",
    "                         \"ows\",\"dws\",\"ws\",\"ws_per_48\",\"obpm\",\"dbpm\",\"bpm\",\"vorp\"]\n",
    "\n",
    "NUM_ADVANCED_STATS_COLUMNS = [col for col in ADVANCED_STATS_COLUMNS if col not in ('\"player\", \"position\",\"team_id\"')]\n",
    "INJURIES_COLUMNS = ['out_for_season', 'out_indefinitely','acum_out_for_season', 'acum_out_indefinitely']"
   ]
  },
  {
   "cell_type": "code",
   "execution_count": 3,
   "metadata": {},
   "outputs": [],
   "source": [
    "df = pd.read_csv('datasets/preprocessed_dataset.csv').fillna(0).set_index('player')\n",
    "results_df = pd.read_csv('datasets/results/performance_metrics.csv')"
   ]
  },
  {
   "cell_type": "code",
   "execution_count": 4,
   "metadata": {},
   "outputs": [],
   "source": [
    "relevant_cols = list(set(NUM_STATS_COLUMNS + NUM_ADVANCED_STATS_COLUMNS + ['position'] + INJURIES_COLUMNS))"
   ]
  },
  {
   "cell_type": "code",
   "execution_count": 5,
   "metadata": {},
   "outputs": [],
   "source": [
    "def evaluate_predictions(model, dataset_type, y_pred, y_truth):\n",
    "    rmse = np.round(np.sqrt(mean_squared_error(y_truth, y_pred)), 0)\n",
    "    mae = np.round(median_absolute_error(y_truth, y_pred), 0)\n",
    "    mape = np.round(mean_absolute_percentage_error(y_truth, y_pred), 4)\n",
    "    return {'model': [model], 'dataset_type': [dataset_type], 'rmse':[rmse], 'mae': [mae], 'mape':[mape]}\n",
    "\n",
    "class PredictionEvaluation:\n",
    "    \n",
    "    def __init__(self, y_pred_train, y_truth_train, y_pred_test, y_truth_test, model_name, results_df):\n",
    "        self.y_pred_train = y_pred_train\n",
    "        self.y_truth_train = y_truth_train\n",
    "        self.y_pred_test = y_pred_test\n",
    "        self.y_truth_test = y_truth_test\n",
    "        self.model_name = model_name\n",
    "        self.results_df = results_df        \n",
    "    \n",
    "    def fill_results_df(self):\n",
    "        train_results = pd.DataFrame(evaluate_predictions(self.model_name, 'train',\n",
    "                                                          self.y_pred_train, self.y_truth_train))\n",
    "        test_results = pd.DataFrame(evaluate_predictions(self.model_name, 'test',\n",
    "                                                         self.y_pred_test, self.y_truth_test))\n",
    "        return pd.concat([self.results_df, train_results, test_results])\n",
    "\n",
    "    def diagnostics_plots(y_pred, y_truth):\n",
    "    \n",
    "        diag_plot = pd.DataFrame({'y_pred':y_pred,'y':y_truth, 'error': y_pred-y_truth})\n",
    "        diag_plot.plot.scatter(x='y',y='y_pred')\n",
    "        plt.plot([0,max(y_truth)], [0,max(y_truth)], c='black')\n",
    "        plt.show()"
   ]
  },
  {
   "cell_type": "code",
   "execution_count": 6,
   "metadata": {},
   "outputs": [],
   "source": [
    "X = df[relevant_cols+['free_agency_year']]\n",
    "y = df[['mean_salary','free_agency_year']]"
   ]
  },
  {
   "cell_type": "code",
   "execution_count": 7,
   "metadata": {
    "scrolled": true
   },
   "outputs": [
    {
     "name": "stderr",
     "output_type": "stream",
     "text": [
      "/home/juan/anaconda3/envs/jmb_ds_projects/lib/python3.7/site-packages/ipykernel_launcher.py:1: SettingWithCopyWarning: \n",
      "A value is trying to be set on a copy of a slice from a DataFrame.\n",
      "Try using .loc[row_indexer,col_indexer] = value instead\n",
      "\n",
      "See the caveats in the documentation: https://pandas.pydata.org/pandas-docs/stable/user_guide/indexing.html#returning-a-view-versus-a-copy\n",
      "  \"\"\"Entry point for launching an IPython kernel.\n"
     ]
    }
   ],
   "source": [
    "X['position'] = X.position.str.split('-').apply(lambda x: x[0])\n",
    "X = pd.get_dummies(X, columns=[\"position\"])"
   ]
  },
  {
   "cell_type": "code",
   "execution_count": 8,
   "metadata": {},
   "outputs": [],
   "source": [
    "x_columns = X.columns.to_list()\n",
    "x_columns.remove('free_agency_year')"
   ]
  },
  {
   "cell_type": "code",
   "execution_count": 9,
   "metadata": {},
   "outputs": [],
   "source": [
    "train_X, test_X = X.query('free_agency_year < 2020').drop('free_agency_year', axis=1),\\\n",
    "                  X.query('free_agency_year == 2020').drop('free_agency_year', axis=1)#.values\n",
    "train_y, test_y = y.query('free_agency_year < 2020').drop('free_agency_year', axis=1).mean_salary,\\\n",
    "                  y.query('free_agency_year == 2020').drop('free_agency_year', axis=1).mean_salary#.values"
   ]
  },
  {
   "cell_type": "code",
   "execution_count": 38,
   "metadata": {},
   "outputs": [],
   "source": [
    "params = {\n",
    "        'n_estimators': randint(50, 400),\n",
    "        'min_samples_leaf': randint(1, 21),\n",
    "        'max_features': uniform(0.30, 0.15),\n",
    "        'max_depth': randint(3, 10),\n",
    "        'max_samples': randint(int(train_X.shape[0]*0.75), train_X.shape[0])\n",
    "        }"
   ]
  },
  {
   "cell_type": "code",
   "execution_count": 73,
   "metadata": {},
   "outputs": [],
   "source": [
    "rf = RandomForestRegressor(criterion = 'mse',n_jobs=4, random_state=1992)"
   ]
  },
  {
   "cell_type": "code",
   "execution_count": 74,
   "metadata": {},
   "outputs": [],
   "source": [
    "folds = 5\n",
    "param_comb = 20\n",
    "repeats = 3\n",
    "\n",
    "kf = RepeatedKFold(n_splits=folds, n_repeats=repeats, random_state = 1992)"
   ]
  },
  {
   "cell_type": "code",
   "execution_count": 75,
   "metadata": {},
   "outputs": [],
   "source": [
    "random_search = RandomizedSearchCV(rf, param_distributions=params,\n",
    "                                   n_iter=param_comb, scoring='neg_median_absolute_error',\n",
    "                                   n_jobs=6, cv=kf.split(train_X,train_y), verbose=2, random_state=1992 )"
   ]
  },
  {
   "cell_type": "code",
   "execution_count": 76,
   "metadata": {},
   "outputs": [
    {
     "name": "stdout",
     "output_type": "stream",
     "text": [
      "Fitting 15 folds for each of 20 candidates, totalling 300 fits\n"
     ]
    },
    {
     "name": "stderr",
     "output_type": "stream",
     "text": [
      "/home/juan/anaconda3/envs/jmb_ds_projects/lib/python3.7/site-packages/sklearn/model_selection/_search.py:921: UserWarning: One or more of the test scores are non-finite: [              nan -1873027.12257325 -1895152.00653391 -1851912.94564947\n",
      "               nan               nan               nan               nan\n",
      "               nan -1876377.77262824               nan               nan\n",
      "               nan               nan               nan               nan\n",
      "               nan -1838393.05877425 -1861106.25323817               nan]\n",
      "  category=UserWarning\n"
     ]
    },
    {
     "data": {
      "text/plain": [
       "RandomizedSearchCV(cv=<generator object _RepeatedSplits.split at 0x7f5b56b53cf0>,\n",
       "                   estimator=RandomForestRegressor(n_jobs=4, random_state=1992),\n",
       "                   n_iter=20, n_jobs=6,\n",
       "                   param_distributions={'max_depth': <scipy.stats._distn_infrastructure.rv_frozen object at 0x7f5b5778e588>,\n",
       "                                        'max_features': <scipy.stats._distn_infrastructure.rv_frozen object at 0x7f5b5778e4e0>,\n",
       "                                        'max_samples': <scipy.stats._distn_infrastructure.rv_frozen object at 0x7f5b5778e1d0>,\n",
       "                                        'min_samples_leaf': <scipy.stats._distn_infrastructure.rv_frozen object at 0x7f5b5778ed68>,\n",
       "                                        'n_estimators': <scipy.stats._distn_infrastructure.rv_frozen object at 0x7f5b5778e668>},\n",
       "                   random_state=1992, scoring='neg_median_absolute_error',\n",
       "                   verbose=2)"
      ]
     },
     "execution_count": 76,
     "metadata": {},
     "output_type": "execute_result"
    }
   ],
   "source": [
    "random_search.fit(train_X,train_y)"
   ]
  },
  {
   "cell_type": "code",
   "execution_count": 77,
   "metadata": {},
   "outputs": [
    {
     "name": "stdout",
     "output_type": "stream",
     "text": [
      "Best estimator:\n",
      "RandomForestRegressor(max_depth=5, max_features=0.44046566880854815,\n",
      "                      max_samples=745, min_samples_leaf=8, n_estimators=92,\n",
      "                      n_jobs=4, random_state=1992)\n"
     ]
    }
   ],
   "source": [
    "print('Best estimator:')\n",
    "print(random_search.best_estimator_)"
   ]
  },
  {
   "cell_type": "code",
   "execution_count": 43,
   "metadata": {},
   "outputs": [
    {
     "name": "stdout",
     "output_type": "stream",
     "text": [
      "Best estimator:\n",
      "RandomForestRegressor(criterion='mae', max_depth=8,\n",
      "                      max_features=0.3970709996672875, max_samples=739,\n",
      "                      min_samples_leaf=9, n_estimators=58, n_jobs=4,\n",
      "                      random_state=1992)\n"
     ]
    }
   ],
   "source": [
    "print('Best estimator:')\n",
    "print(random_search.best_estimator_)"
   ]
  },
  {
   "cell_type": "code",
   "execution_count": 78,
   "metadata": {},
   "outputs": [
    {
     "data": {
      "text/plain": [
       "-1838393.0587742524"
      ]
     },
     "execution_count": 78,
     "metadata": {},
     "output_type": "execute_result"
    }
   ],
   "source": [
    "random_search.best_score_"
   ]
  },
  {
   "cell_type": "code",
   "execution_count": 79,
   "metadata": {},
   "outputs": [
    {
     "data": {
      "text/plain": [
       "-1838393.0587742524"
      ]
     },
     "execution_count": 79,
     "metadata": {},
     "output_type": "execute_result"
    }
   ],
   "source": [
    "random_search.best_score_"
   ]
  },
  {
   "cell_type": "code",
   "execution_count": 80,
   "metadata": {},
   "outputs": [],
   "source": [
    "train_y_pred = random_search.predict(train_X)\n",
    "test_y_pred = random_search.predict(test_X)\n"
   ]
  },
  {
   "cell_type": "code",
   "execution_count": 81,
   "metadata": {},
   "outputs": [
    {
     "data": {
      "text/plain": [
       "1659394.422479735"
      ]
     },
     "execution_count": 81,
     "metadata": {},
     "output_type": "execute_result"
    }
   ],
   "source": [
    "median_absolute_error(train_y, train_y_pred)"
   ]
  },
  {
   "cell_type": "code",
   "execution_count": 82,
   "metadata": {},
   "outputs": [
    {
     "data": {
      "text/plain": [
       "1225906.203810359"
      ]
     },
     "execution_count": 82,
     "metadata": {},
     "output_type": "execute_result"
    }
   ],
   "source": [
    "median_absolute_error(test_y, test_y_pred)"
   ]
  },
  {
   "cell_type": "code",
   "execution_count": 83,
   "metadata": {},
   "outputs": [
    {
     "name": "stderr",
     "output_type": "stream",
     "text": [
      "/home/juan/anaconda3/envs/jmb_ds_projects/lib/python3.7/site-packages/matplotlib/cbook/__init__.py:1377: FutureWarning: Support for multi-dimensional indexing (e.g. `obj[:, None]`) is deprecated and will be removed in a future version.  Convert to a numpy array before indexing instead.\n",
      "  x[:, None]\n",
      "/home/juan/anaconda3/envs/jmb_ds_projects/lib/python3.7/site-packages/matplotlib/axes/_base.py:237: FutureWarning: Support for multi-dimensional indexing (e.g. `obj[:, None]`) is deprecated and will be removed in a future version.  Convert to a numpy array before indexing instead.\n",
      "  x = x[:, np.newaxis]\n"
     ]
    },
    {
     "data": {
      "text/plain": [
       "[<matplotlib.lines.Line2D at 0x7f5b602e8978>]"
      ]
     },
     "execution_count": 83,
     "metadata": {},
     "output_type": "execute_result"
    },
    {
     "data": {
      "image/png": "[encoded data removed]",
      "text/plain": [
       "<Figure size 432x288 with 1 Axes>"
      ]
     },
     "metadata": {
      "needs_background": "light"
     },
     "output_type": "display_data"
    }
   ],
   "source": [
    "plt.plot(test_y, test_y_pred,'bo')"
   ]
  },
  {
   "cell_type": "code",
   "execution_count": 84,
   "metadata": {},
   "outputs": [
    {
     "data": {
      "text/plain": [
       "0.5081561500406646"
      ]
     },
     "execution_count": 84,
     "metadata": {},
     "output_type": "execute_result"
    }
   ],
   "source": [
    "mean_absolute_percentage_error(test_y, test_y_pred)"
   ]
  },
  {
   "cell_type": "code",
   "execution_count": 85,
   "metadata": {},
   "outputs": [
    {
     "data": {
      "text/plain": [
       "3664722.2591350283"
      ]
     },
     "execution_count": 85,
     "metadata": {},
     "output_type": "execute_result"
    }
   ],
   "source": [
    "np.sqrt(mean_squared_error(test_y, test_y_pred))"
   ]
  },
  {
   "cell_type": "code",
   "execution_count": 49,
   "metadata": {},
   "outputs": [
    {
     "data": {
      "text/html": [
       "<div>\n",
       "<style scoped>\n",
       "    .dataframe tbody tr th:only-of-type {\n",
       "        vertical-align: middle;\n",
       "    }\n",
       "\n",
       "    .dataframe tbody tr th {\n",
       "        vertical-align: top;\n",
       "    }\n",
       "\n",
       "    .dataframe thead th {\n",
       "        text-align: right;\n",
       "    }\n",
       "</style>\n",
       "<table border=\"1\" class=\"dataframe\">\n",
       "  <thead>\n",
       "    <tr style=\"text-align: right;\">\n",
       "      <th></th>\n",
       "      <th>model</th>\n",
       "      <th>dataset_type</th>\n",
       "      <th>rmse</th>\n",
       "      <th>mae</th>\n",
       "      <th>mape</th>\n",
       "    </tr>\n",
       "  </thead>\n",
       "  <tbody>\n",
       "    <tr>\n",
       "      <th>0</th>\n",
       "      <td>baseline</td>\n",
       "      <td>train</td>\n",
       "      <td>7046669.0</td>\n",
       "      <td>4191739.0</td>\n",
       "      <td>1.7206</td>\n",
       "    </tr>\n",
       "    <tr>\n",
       "      <th>1</th>\n",
       "      <td>baseline</td>\n",
       "      <td>test</td>\n",
       "      <td>6136372.0</td>\n",
       "      <td>3988694.0</td>\n",
       "      <td>1.5356</td>\n",
       "    </tr>\n",
       "    <tr>\n",
       "      <th>2</th>\n",
       "      <td>modelo lineal</td>\n",
       "      <td>train</td>\n",
       "      <td>3924033.0</td>\n",
       "      <td>2111549.0</td>\n",
       "      <td>0.8302</td>\n",
       "    </tr>\n",
       "    <tr>\n",
       "      <th>3</th>\n",
       "      <td>modelo lineal</td>\n",
       "      <td>test</td>\n",
       "      <td>3559228.0</td>\n",
       "      <td>2088352.0</td>\n",
       "      <td>0.8496</td>\n",
       "    </tr>\n",
       "    <tr>\n",
       "      <th>4</th>\n",
       "      <td>modelo lineal no negativo</td>\n",
       "      <td>train</td>\n",
       "      <td>4343415.0</td>\n",
       "      <td>2166715.0</td>\n",
       "      <td>0.8812</td>\n",
       "    </tr>\n",
       "    <tr>\n",
       "      <th>5</th>\n",
       "      <td>modelo lineal no negativo</td>\n",
       "      <td>test</td>\n",
       "      <td>3798000.0</td>\n",
       "      <td>1817943.0</td>\n",
       "      <td>0.7398</td>\n",
       "    </tr>\n",
       "    <tr>\n",
       "      <th>6</th>\n",
       "      <td>modelo lineal logaritmo</td>\n",
       "      <td>train</td>\n",
       "      <td>4492837.0</td>\n",
       "      <td>1382346.0</td>\n",
       "      <td>0.5387</td>\n",
       "    </tr>\n",
       "    <tr>\n",
       "      <th>7</th>\n",
       "      <td>modelo lineal logaritmo</td>\n",
       "      <td>test</td>\n",
       "      <td>4095432.0</td>\n",
       "      <td>1059238.0</td>\n",
       "      <td>0.4941</td>\n",
       "    </tr>\n",
       "    <tr>\n",
       "      <th>8</th>\n",
       "      <td>lasso</td>\n",
       "      <td>train</td>\n",
       "      <td>3958471.0</td>\n",
       "      <td>2031632.0</td>\n",
       "      <td>0.8034</td>\n",
       "    </tr>\n",
       "    <tr>\n",
       "      <th>9</th>\n",
       "      <td>lasso</td>\n",
       "      <td>test</td>\n",
       "      <td>3501706.0</td>\n",
       "      <td>1819077.0</td>\n",
       "      <td>0.7776</td>\n",
       "    </tr>\n",
       "    <tr>\n",
       "      <th>10</th>\n",
       "      <td>ridge</td>\n",
       "      <td>train</td>\n",
       "      <td>3952017.0</td>\n",
       "      <td>2040080.0</td>\n",
       "      <td>0.8102</td>\n",
       "    </tr>\n",
       "    <tr>\n",
       "      <th>11</th>\n",
       "      <td>ridge</td>\n",
       "      <td>test</td>\n",
       "      <td>3518823.0</td>\n",
       "      <td>1890600.0</td>\n",
       "      <td>0.8033</td>\n",
       "    </tr>\n",
       "    <tr>\n",
       "      <th>12</th>\n",
       "      <td>elastic net</td>\n",
       "      <td>train</td>\n",
       "      <td>3958453.0</td>\n",
       "      <td>2031660.0</td>\n",
       "      <td>0.8035</td>\n",
       "    </tr>\n",
       "    <tr>\n",
       "      <th>13</th>\n",
       "      <td>elastic net</td>\n",
       "      <td>test</td>\n",
       "      <td>3501755.0</td>\n",
       "      <td>1819124.0</td>\n",
       "      <td>0.7777</td>\n",
       "    </tr>\n",
       "    <tr>\n",
       "      <th>14</th>\n",
       "      <td>xgboost best cv</td>\n",
       "      <td>train</td>\n",
       "      <td>1228752.0</td>\n",
       "      <td>538511.0</td>\n",
       "      <td>0.2422</td>\n",
       "    </tr>\n",
       "    <tr>\n",
       "      <th>15</th>\n",
       "      <td>xgboost best cv</td>\n",
       "      <td>test</td>\n",
       "      <td>3604844.0</td>\n",
       "      <td>1185345.0</td>\n",
       "      <td>0.5074</td>\n",
       "    </tr>\n",
       "  </tbody>\n",
       "</table>\n",
       "</div>"
      ],
      "text/plain": [
       "                        model dataset_type       rmse        mae    mape\n",
       "0                    baseline        train  7046669.0  4191739.0  1.7206\n",
       "1                    baseline         test  6136372.0  3988694.0  1.5356\n",
       "2               modelo lineal        train  3924033.0  2111549.0  0.8302\n",
       "3               modelo lineal         test  3559228.0  2088352.0  0.8496\n",
       "4   modelo lineal no negativo        train  4343415.0  2166715.0  0.8812\n",
       "5   modelo lineal no negativo         test  3798000.0  1817943.0  0.7398\n",
       "6     modelo lineal logaritmo        train  4492837.0  1382346.0  0.5387\n",
       "7     modelo lineal logaritmo         test  4095432.0  1059238.0  0.4941\n",
       "8                       lasso        train  3958471.0  2031632.0  0.8034\n",
       "9                       lasso         test  3501706.0  1819077.0  0.7776\n",
       "10                      ridge        train  3952017.0  2040080.0  0.8102\n",
       "11                      ridge         test  3518823.0  1890600.0  0.8033\n",
       "12                elastic net        train  3958453.0  2031660.0  0.8035\n",
       "13                elastic net         test  3501755.0  1819124.0  0.7777\n",
       "14            xgboost best cv        train  1228752.0   538511.0  0.2422\n",
       "15            xgboost best cv         test  3604844.0  1185345.0  0.5074"
      ]
     },
     "execution_count": 49,
     "metadata": {},
     "output_type": "execute_result"
    }
   ],
   "source": [
    "results_df"
   ]
  },
  {
   "cell_type": "code",
   "execution_count": 86,
   "metadata": {},
   "outputs": [
    {
     "data": {
      "text/html": [
       "<div>\n",
       "<style scoped>\n",
       "    .dataframe tbody tr th:only-of-type {\n",
       "        vertical-align: middle;\n",
       "    }\n",
       "\n",
       "    .dataframe tbody tr th {\n",
       "        vertical-align: top;\n",
       "    }\n",
       "\n",
       "    .dataframe thead th {\n",
       "        text-align: right;\n",
       "    }\n",
       "</style>\n",
       "<table border=\"1\" class=\"dataframe\">\n",
       "  <thead>\n",
       "    <tr style=\"text-align: right;\">\n",
       "      <th></th>\n",
       "      <th>mean_fit_time</th>\n",
       "      <th>std_fit_time</th>\n",
       "      <th>mean_score_time</th>\n",
       "      <th>std_score_time</th>\n",
       "      <th>param_max_depth</th>\n",
       "      <th>param_max_features</th>\n",
       "      <th>param_max_samples</th>\n",
       "      <th>param_min_samples_leaf</th>\n",
       "      <th>param_n_estimators</th>\n",
       "      <th>params</th>\n",
       "      <th>...</th>\n",
       "      <th>split8_test_score</th>\n",
       "      <th>split9_test_score</th>\n",
       "      <th>split10_test_score</th>\n",
       "      <th>split11_test_score</th>\n",
       "      <th>split12_test_score</th>\n",
       "      <th>split13_test_score</th>\n",
       "      <th>split14_test_score</th>\n",
       "      <th>mean_test_score</th>\n",
       "      <th>std_test_score</th>\n",
       "      <th>rank_test_score</th>\n",
       "    </tr>\n",
       "  </thead>\n",
       "  <tbody>\n",
       "    <tr>\n",
       "      <th>1</th>\n",
       "      <td>0.902634</td>\n",
       "      <td>0.250235</td>\n",
       "      <td>0.105400</td>\n",
       "      <td>0.003779</td>\n",
       "      <td>8</td>\n",
       "      <td>0.397071</td>\n",
       "      <td>739</td>\n",
       "      <td>9</td>\n",
       "      <td>58</td>\n",
       "      <td>{'max_depth': 8, 'max_features': 0.39707099966...</td>\n",
       "      <td>...</td>\n",
       "      <td>-1.627071e+06</td>\n",
       "      <td>-1.585514e+06</td>\n",
       "      <td>-1.982501e+06</td>\n",
       "      <td>-1.741912e+06</td>\n",
       "      <td>-1.525916e+06</td>\n",
       "      <td>-1.535618e+06</td>\n",
       "      <td>-1.650247e+06</td>\n",
       "      <td>-1.672899e+06</td>\n",
       "      <td>132354.940889</td>\n",
       "      <td>1</td>\n",
       "    </tr>\n",
       "    <tr>\n",
       "      <th>9</th>\n",
       "      <td>1.126543</td>\n",
       "      <td>0.081784</td>\n",
       "      <td>0.112228</td>\n",
       "      <td>0.009899</td>\n",
       "      <td>8</td>\n",
       "      <td>0.442079</td>\n",
       "      <td>743</td>\n",
       "      <td>7</td>\n",
       "      <td>53</td>\n",
       "      <td>{'max_depth': 8, 'max_features': 0.44207871718...</td>\n",
       "      <td>...</td>\n",
       "      <td>-1.616253e+06</td>\n",
       "      <td>-1.497641e+06</td>\n",
       "      <td>-2.028915e+06</td>\n",
       "      <td>-1.735579e+06</td>\n",
       "      <td>-1.564748e+06</td>\n",
       "      <td>-1.697651e+06</td>\n",
       "      <td>-1.443586e+06</td>\n",
       "      <td>-1.678002e+06</td>\n",
       "      <td>163529.220137</td>\n",
       "      <td>2</td>\n",
       "    </tr>\n",
       "    <tr>\n",
       "      <th>3</th>\n",
       "      <td>0.758692</td>\n",
       "      <td>0.056486</td>\n",
       "      <td>0.104271</td>\n",
       "      <td>0.000896</td>\n",
       "      <td>7</td>\n",
       "      <td>0.424654</td>\n",
       "      <td>735</td>\n",
       "      <td>7</td>\n",
       "      <td>66</td>\n",
       "      <td>{'max_depth': 7, 'max_features': 0.42465383381...</td>\n",
       "      <td>...</td>\n",
       "      <td>-1.708048e+06</td>\n",
       "      <td>-1.596445e+06</td>\n",
       "      <td>-1.958680e+06</td>\n",
       "      <td>-1.765648e+06</td>\n",
       "      <td>-1.508069e+06</td>\n",
       "      <td>-1.357849e+06</td>\n",
       "      <td>-1.593347e+06</td>\n",
       "      <td>-1.678747e+06</td>\n",
       "      <td>162762.643364</td>\n",
       "      <td>3</td>\n",
       "    </tr>\n",
       "    <tr>\n",
       "      <th>2</th>\n",
       "      <td>1.189351</td>\n",
       "      <td>0.305109</td>\n",
       "      <td>0.114771</td>\n",
       "      <td>0.019685</td>\n",
       "      <td>7</td>\n",
       "      <td>0.315095</td>\n",
       "      <td>706</td>\n",
       "      <td>3</td>\n",
       "      <td>105</td>\n",
       "      <td>{'max_depth': 7, 'max_features': 0.31509497380...</td>\n",
       "      <td>...</td>\n",
       "      <td>-1.743262e+06</td>\n",
       "      <td>-1.638064e+06</td>\n",
       "      <td>-2.012433e+06</td>\n",
       "      <td>-1.901261e+06</td>\n",
       "      <td>-1.669920e+06</td>\n",
       "      <td>-1.624567e+06</td>\n",
       "      <td>-1.562959e+06</td>\n",
       "      <td>-1.735374e+06</td>\n",
       "      <td>147373.879454</td>\n",
       "      <td>4</td>\n",
       "    </tr>\n",
       "    <tr>\n",
       "      <th>0</th>\n",
       "      <td>0.003262</td>\n",
       "      <td>0.000943</td>\n",
       "      <td>0.000000</td>\n",
       "      <td>0.000000</td>\n",
       "      <td>4</td>\n",
       "      <td>0.363223</td>\n",
       "      <td>892</td>\n",
       "      <td>12</td>\n",
       "      <td>319</td>\n",
       "      <td>{'max_depth': 4, 'max_features': 0.36322302777...</td>\n",
       "      <td>...</td>\n",
       "      <td>NaN</td>\n",
       "      <td>NaN</td>\n",
       "      <td>NaN</td>\n",
       "      <td>NaN</td>\n",
       "      <td>NaN</td>\n",
       "      <td>NaN</td>\n",
       "      <td>NaN</td>\n",
       "      <td>NaN</td>\n",
       "      <td>NaN</td>\n",
       "      <td>5</td>\n",
       "    </tr>\n",
       "    <tr>\n",
       "      <th>4</th>\n",
       "      <td>0.003724</td>\n",
       "      <td>0.000945</td>\n",
       "      <td>0.000000</td>\n",
       "      <td>0.000000</td>\n",
       "      <td>8</td>\n",
       "      <td>0.352164</td>\n",
       "      <td>822</td>\n",
       "      <td>11</td>\n",
       "      <td>52</td>\n",
       "      <td>{'max_depth': 8, 'max_features': 0.35216369060...</td>\n",
       "      <td>...</td>\n",
       "      <td>NaN</td>\n",
       "      <td>NaN</td>\n",
       "      <td>NaN</td>\n",
       "      <td>NaN</td>\n",
       "      <td>NaN</td>\n",
       "      <td>NaN</td>\n",
       "      <td>NaN</td>\n",
       "      <td>NaN</td>\n",
       "      <td>NaN</td>\n",
       "      <td>6</td>\n",
       "    </tr>\n",
       "    <tr>\n",
       "      <th>5</th>\n",
       "      <td>0.005846</td>\n",
       "      <td>0.004849</td>\n",
       "      <td>0.000000</td>\n",
       "      <td>0.000000</td>\n",
       "      <td>9</td>\n",
       "      <td>0.370639</td>\n",
       "      <td>872</td>\n",
       "      <td>14</td>\n",
       "      <td>215</td>\n",
       "      <td>{'max_depth': 9, 'max_features': 0.37063913403...</td>\n",
       "      <td>...</td>\n",
       "      <td>NaN</td>\n",
       "      <td>NaN</td>\n",
       "      <td>NaN</td>\n",
       "      <td>NaN</td>\n",
       "      <td>NaN</td>\n",
       "      <td>NaN</td>\n",
       "      <td>NaN</td>\n",
       "      <td>NaN</td>\n",
       "      <td>NaN</td>\n",
       "      <td>7</td>\n",
       "    </tr>\n",
       "    <tr>\n",
       "      <th>6</th>\n",
       "      <td>0.004158</td>\n",
       "      <td>0.000799</td>\n",
       "      <td>0.000000</td>\n",
       "      <td>0.000000</td>\n",
       "      <td>6</td>\n",
       "      <td>0.307071</td>\n",
       "      <td>928</td>\n",
       "      <td>10</td>\n",
       "      <td>343</td>\n",
       "      <td>{'max_depth': 6, 'max_features': 0.30707053601...</td>\n",
       "      <td>...</td>\n",
       "      <td>NaN</td>\n",
       "      <td>NaN</td>\n",
       "      <td>NaN</td>\n",
       "      <td>NaN</td>\n",
       "      <td>NaN</td>\n",
       "      <td>NaN</td>\n",
       "      <td>NaN</td>\n",
       "      <td>NaN</td>\n",
       "      <td>NaN</td>\n",
       "      <td>8</td>\n",
       "    </tr>\n",
       "    <tr>\n",
       "      <th>7</th>\n",
       "      <td>0.006338</td>\n",
       "      <td>0.005698</td>\n",
       "      <td>0.000000</td>\n",
       "      <td>0.000000</td>\n",
       "      <td>7</td>\n",
       "      <td>0.338241</td>\n",
       "      <td>911</td>\n",
       "      <td>11</td>\n",
       "      <td>325</td>\n",
       "      <td>{'max_depth': 7, 'max_features': 0.33824135047...</td>\n",
       "      <td>...</td>\n",
       "      <td>NaN</td>\n",
       "      <td>NaN</td>\n",
       "      <td>NaN</td>\n",
       "      <td>NaN</td>\n",
       "      <td>NaN</td>\n",
       "      <td>NaN</td>\n",
       "      <td>NaN</td>\n",
       "      <td>NaN</td>\n",
       "      <td>NaN</td>\n",
       "      <td>9</td>\n",
       "    </tr>\n",
       "    <tr>\n",
       "      <th>8</th>\n",
       "      <td>0.005260</td>\n",
       "      <td>0.006497</td>\n",
       "      <td>0.000000</td>\n",
       "      <td>0.000000</td>\n",
       "      <td>3</td>\n",
       "      <td>0.447659</td>\n",
       "      <td>819</td>\n",
       "      <td>12</td>\n",
       "      <td>162</td>\n",
       "      <td>{'max_depth': 3, 'max_features': 0.44765918595...</td>\n",
       "      <td>...</td>\n",
       "      <td>NaN</td>\n",
       "      <td>NaN</td>\n",
       "      <td>NaN</td>\n",
       "      <td>NaN</td>\n",
       "      <td>NaN</td>\n",
       "      <td>NaN</td>\n",
       "      <td>NaN</td>\n",
       "      <td>NaN</td>\n",
       "      <td>NaN</td>\n",
       "      <td>10</td>\n",
       "    </tr>\n",
       "  </tbody>\n",
       "</table>\n",
       "<p>10 rows × 28 columns</p>\n",
       "</div>"
      ],
      "text/plain": [
       "   mean_fit_time  std_fit_time  mean_score_time  std_score_time  \\\n",
       "1       0.902634      0.250235         0.105400        0.003779   \n",
       "9       1.126543      0.081784         0.112228        0.009899   \n",
       "3       0.758692      0.056486         0.104271        0.000896   \n",
       "2       1.189351      0.305109         0.114771        0.019685   \n",
       "0       0.003262      0.000943         0.000000        0.000000   \n",
       "4       0.003724      0.000945         0.000000        0.000000   \n",
       "5       0.005846      0.004849         0.000000        0.000000   \n",
       "6       0.004158      0.000799         0.000000        0.000000   \n",
       "7       0.006338      0.005698         0.000000        0.000000   \n",
       "8       0.005260      0.006497         0.000000        0.000000   \n",
       "\n",
       "  param_max_depth param_max_features param_max_samples param_min_samples_leaf  \\\n",
       "1               8           0.397071               739                      9   \n",
       "9               8           0.442079               743                      7   \n",
       "3               7           0.424654               735                      7   \n",
       "2               7           0.315095               706                      3   \n",
       "0               4           0.363223               892                     12   \n",
       "4               8           0.352164               822                     11   \n",
       "5               9           0.370639               872                     14   \n",
       "6               6           0.307071               928                     10   \n",
       "7               7           0.338241               911                     11   \n",
       "8               3           0.447659               819                     12   \n",
       "\n",
       "  param_n_estimators                                             params  ...  \\\n",
       "1                 58  {'max_depth': 8, 'max_features': 0.39707099966...  ...   \n",
       "9                 53  {'max_depth': 8, 'max_features': 0.44207871718...  ...   \n",
       "3                 66  {'max_depth': 7, 'max_features': 0.42465383381...  ...   \n",
       "2                105  {'max_depth': 7, 'max_features': 0.31509497380...  ...   \n",
       "0                319  {'max_depth': 4, 'max_features': 0.36322302777...  ...   \n",
       "4                 52  {'max_depth': 8, 'max_features': 0.35216369060...  ...   \n",
       "5                215  {'max_depth': 9, 'max_features': 0.37063913403...  ...   \n",
       "6                343  {'max_depth': 6, 'max_features': 0.30707053601...  ...   \n",
       "7                325  {'max_depth': 7, 'max_features': 0.33824135047...  ...   \n",
       "8                162  {'max_depth': 3, 'max_features': 0.44765918595...  ...   \n",
       "\n",
       "   split8_test_score  split9_test_score  split10_test_score  \\\n",
       "1      -1.627071e+06      -1.585514e+06       -1.982501e+06   \n",
       "9      -1.616253e+06      -1.497641e+06       -2.028915e+06   \n",
       "3      -1.708048e+06      -1.596445e+06       -1.958680e+06   \n",
       "2      -1.743262e+06      -1.638064e+06       -2.012433e+06   \n",
       "0                NaN                NaN                 NaN   \n",
       "4                NaN                NaN                 NaN   \n",
       "5                NaN                NaN                 NaN   \n",
       "6                NaN                NaN                 NaN   \n",
       "7                NaN                NaN                 NaN   \n",
       "8                NaN                NaN                 NaN   \n",
       "\n",
       "   split11_test_score  split12_test_score  split13_test_score  \\\n",
       "1       -1.741912e+06       -1.525916e+06       -1.535618e+06   \n",
       "9       -1.735579e+06       -1.564748e+06       -1.697651e+06   \n",
       "3       -1.765648e+06       -1.508069e+06       -1.357849e+06   \n",
       "2       -1.901261e+06       -1.669920e+06       -1.624567e+06   \n",
       "0                 NaN                 NaN                 NaN   \n",
       "4                 NaN                 NaN                 NaN   \n",
       "5                 NaN                 NaN                 NaN   \n",
       "6                 NaN                 NaN                 NaN   \n",
       "7                 NaN                 NaN                 NaN   \n",
       "8                 NaN                 NaN                 NaN   \n",
       "\n",
       "   split14_test_score  mean_test_score  std_test_score  rank_test_score  \n",
       "1       -1.650247e+06    -1.672899e+06   132354.940889                1  \n",
       "9       -1.443586e+06    -1.678002e+06   163529.220137                2  \n",
       "3       -1.593347e+06    -1.678747e+06   162762.643364                3  \n",
       "2       -1.562959e+06    -1.735374e+06   147373.879454                4  \n",
       "0                 NaN              NaN             NaN                5  \n",
       "4                 NaN              NaN             NaN                6  \n",
       "5                 NaN              NaN             NaN                7  \n",
       "6                 NaN              NaN             NaN                8  \n",
       "7                 NaN              NaN             NaN                9  \n",
       "8                 NaN              NaN             NaN               10  \n",
       "\n",
       "[10 rows x 28 columns]"
      ]
     },
     "execution_count": 86,
     "metadata": {},
     "output_type": "execute_result"
    }
   ],
   "source": [
    "cv_results"
   ]
  },
  {
   "cell_type": "code",
   "execution_count": null,
   "metadata": {},
   "outputs": [],
   "source": []
  }
 ],
 "metadata": {
  "kernelspec": {
   "display_name": "Python 3",
   "language": "python",
   "name": "python3"
  },
  "language_info": {
   "codemirror_mode": {
    "name": "ipython",
    "version": 3
   },
   "file_extension": ".py",
   "mimetype": "text/x-python",
   "name": "python",
   "nbconvert_exporter": "python",
   "pygments_lexer": "ipython3",
   "version": "3.7.3"
  },
  "varInspector": {
   "cols": {
    "lenName": 16,
    "lenType": 16,
    "lenVar": 40
   },
   "kernels_config": {
    "python": {
     "delete_cmd_postfix": "",
     "delete_cmd_prefix": "del ",
     "library": "var_list.py",
     "varRefreshCmd": "print(var_dic_list())"
    },
    "r": {
     "delete_cmd_postfix": ") ",
     "delete_cmd_prefix": "rm(",
     "library": "var_list.r",
     "varRefreshCmd": "cat(var_dic_list()) "
    }
   },
   "types_to_exclude": [
    "module",
    "function",
    "builtin_function_or_method",
    "instance",
    "_Feature"
   ],
   "window_display": false
  }
 },
 "nbformat": 4,
 "nbformat_minor": 2
}
