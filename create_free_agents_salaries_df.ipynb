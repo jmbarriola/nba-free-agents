{
 "cells": [
  {
   "cell_type": "code",
   "execution_count": 3,
   "metadata": {
    "executionInfo": {
     "elapsed": 672,
     "status": "ok",
     "timestamp": 1620157655381,
     "user": {
      "displayName": "Juan Manuel Barriola",
      "photoUrl": "https://lh3.googleusercontent.com/a-/AOh14GinJB4_02Tlqxd_BE6CRD1Br0qdF4ZtruC7whix1w=s64",
      "userId": "09047130094665524332"
     },
     "user_tz": 180
    },
    "id": "acrKS54lY7ox"
   },
   "outputs": [],
   "source": [
    "import pandas as pd\n",
    "import glob\n",
    "#import seaborn as sns"
   ]
  },
  {
   "cell_type": "code",
   "execution_count": 4,
   "metadata": {},
   "outputs": [],
   "source": [
    "YEAR=2020"
   ]
  },
  {
   "cell_type": "code",
   "execution_count": 5,
   "metadata": {
    "executionInfo": {
     "elapsed": 27668,
     "status": "ok",
     "timestamp": 1620157683506,
     "user": {
      "displayName": "Juan Manuel Barriola",
      "photoUrl": "https://lh3.googleusercontent.com/a-/AOh14GinJB4_02Tlqxd_BE6CRD1Br0qdF4ZtruC7whix1w=s64",
      "userId": "09047130094665524332"
     },
     "user_tz": 180
    },
    "id": "D92iqNDOY7pB"
   },
   "outputs": [],
   "source": [
    "free_agents =pd.read_csv(f'datasets/{YEAR}/free_agents_salaries.csv')\n",
    "stats = pd.read_csv(f'datasets/{YEAR}/stats.csv')\n",
    "advanced_stats = pd.read_csv(f'datasets/{YEAR}/advanced_stats.csv')"
   ]
  },
  {
   "cell_type": "code",
   "execution_count": 8,
   "metadata": {},
   "outputs": [],
   "source": [
    "salaries = pd.read_csv(f'datasets/{YEAR}/salaries.csv')"
   ]
  },
  {
   "cell_type": "code",
   "execution_count": 14,
   "metadata": {},
   "outputs": [
    {
     "name": "stderr",
     "output_type": "stream",
     "text": [
      "/home/juan/anaconda3/envs/jmb_ds_projects/lib/python3.7/site-packages/ipykernel_launcher.py:1: FutureWarning: Passing a negative integer is deprecated in version 1.0 and will not be supported in future version. Instead, use None to not limit the column width.\n",
      "  \"\"\"Entry point for launching an IPython kernel.\n"
     ]
    }
   ],
   "source": [
    "pd.set_option('display.max_colwidth', -1)"
   ]
  },
  {
   "cell_type": "code",
   "execution_count": 15,
   "metadata": {},
   "outputs": [
    {
     "name": "stdout",
     "output_type": "stream",
     "text": [
      "\\begin{tabular}{ll}\n",
      "\\toprule\n",
      "             Variable &                                                                                                                                    Descripcion \\\\\n",
      "\\midrule\n",
      "player & Nombre del jugador \\\\\n",
      "salary & Salario \\\\\n",
      "position & Posición en el campo de juego \\\\\n",
      "age & Edad \\\\\n",
      "g & Cantidad de Partidos \\\\\n",
      "gs & Cantidad de partidos como titular \\\\\n",
      "mp\\_per\\_g & Minutos por partido \\\\\n",
      "fg\\_per\\_g & Tiros de campo (dobles y triples) por partido  \\\\\n",
      "fga\\_per\\_g & Intentos de tiro de campo \\\\\n",
      "fg\\_pct & Porcentaje de tiros convertidos \\\\\n",
      "fg3\\_per\\_g & Triples por partido \\\\\n",
      "fg3a\\_per\\_g & Intentos de triples por partido \\\\\n",
      "fg3\\_pct & Porcentaje de triples convertidos \\\\\n",
      "fg2\\_per\\_g & Dobles por partido \\\\\n",
      "fg2a\\_per\\_g & Intentos de dobles por partido \\\\\n",
      "fg2\\_pct & Porcentaje de Dobles convertidos \\\\\n",
      "efg\\_pct & Porcentaje de tiros de campo efectiva \\\\\n",
      "ft\\_per\\_g & Tiros libres por partido \\\\\n",
      "fta\\_per\\_g & Intentos de tiro libre por partido \\\\\n",
      "ft\\_pct & Porcentaje de Tiros libres convertidos \\\\\n",
      "orb\\_per\\_g & Rebotes ofensivos por partido \\\\\n",
      "drb\\_per\\_g & Rebotes defensivos por partido \\\\\n",
      "trb\\_per\\_g & Rebotes totales por partido \\\\\n",
      "ast\\_per\\_g & Asistencias por partido \\\\\n",
      "stl\\_per\\_g & Robos por partido \\\\\n",
      "blk\\_per\\_g & Bloqueos por partido \\\\\n",
      "tov\\_per\\_g & Perdidas por partido \\\\\n",
      "pf\\_per\\_g & Faltas por partido \\\\\n",
      "pts\\_per\\_g & Puntos por partido \\\\\n",
      "per & Player Efficiency Rating: medida estandarizada de la producción de juego por minuto \\\\\n",
      "ts\\_pct & Eficiencia de todos los tiros (dobles, triples y libres) \\\\\n",
      "fg3a\\_per\\_fga\\_pct & Porcentaje de intentos de triples por intentos de tiros de campo \\\\\n",
      "fta\\_per\\_fga\\_pct & Cantidad de intentos tiros libres por intentos de tiros de campo \\\\\n",
      "orb\\_pct & Porcentaje de los rebotes ofensivos disponibles capturados por el jugador \\\\\n",
      "drb\\_pct & Porcentaje de los rebotes defensivos disponibles capturados por el jugador \\\\\n",
      "trb\\_pct & Porcentaje de los rebotes totales disponibles capturados por el jugador \\\\\n",
      "ast\\_pct & Porcentaje de los tiros de campo asistidos por el jugador \\\\\n",
      "stl\\_pct & Porcentaje de jugadas del equipo contrario en las que el jugador roba la pelota \\\\\n",
      "blk\\_pct & Porcentaje de intentos de doble que son bloqueadas por el jugador \\\\\n",
      "tov\\_pct & Perdidas cada 100 jugadas \\\\\n",
      "usg\\_pct & Porcentaje de jugadas que utilizan al jugador \\\\\n",
      "ows & Offensive Win Shares: Cantidad de victorias en las que contribuyo el jugador por su juego ofensivo \\\\\n",
      "dws & Defensive Win Shares: Cantidad de victorias en las que contribuyo el jugador por su juego defensivo \\\\\n",
      "ws & Win Shares: Cantidad de victorias en las que contribuyo el jugador \\\\\n",
      "ws\\_per\\_48 & Win Shares Per 48 Minutes: Cantidad de victorias en las que contribuyo el jugador cada 48 minutos \\\\\n",
      "obpm & Offensive Box Plus/Minus: Medida del aporte ofensivo de un jugador a su equipo cada 100 posesiones respecto al promedio de la liga \\\\\n",
      "dbpm & Defensive Box Plus/Minus: Medida del aporte defensivo de un jugador a su equipo cada 100 posesiones respecto al promedio de la liga \\\\\n",
      "bpm & Box Plus/Minus: Medida del aporte de un jugador a su equipo cada 100 posesiones respecto al promedio de la liga \\\\\n",
      "vorp & Value over Replacement Player: Impacto que tiene un jugador en comparación al impacto por cada 100 posesiones del equipo cuando es reemplazado \\\\\n",
      "out\\_for\\_season & Indica si el jugador sufrió una lesión que le impide jugar el resto de la temporada \\\\\n",
      "out\\_indefinitely & Indica si el jugador sufrió una lesión que le impide jugar por un período de tiempo indeterminado  \\\\\n",
      "acum\\_out\\_for\\_season & Cantidad de lesiones de finalización de temporadas acumuladas por el jugador \\\\\n",
      "acum\\_out\\_indefinitely & Cantidad de lesiones de tiempo indeterminado acumuladas por el jugador \\\\\n",
      "\\bottomrule\n",
      "\\end{tabular}\n",
      "\n"
     ]
    }
   ],
   "source": [
    "diccionario = pd.read_csv('datasets/diccionario_terminos.csv')\n",
    "print(diccionario.to_latex(index=False))"
   ]
  },
  {
   "cell_type": "code",
   "execution_count": 11,
   "metadata": {},
   "outputs": [
    {
     "data": {
      "text/html": [
       "<div>\n",
       "<style scoped>\n",
       "    .dataframe tbody tr th:only-of-type {\n",
       "        vertical-align: middle;\n",
       "    }\n",
       "\n",
       "    .dataframe tbody tr th {\n",
       "        vertical-align: top;\n",
       "    }\n",
       "\n",
       "    .dataframe thead th {\n",
       "        text-align: right;\n",
       "    }\n",
       "</style>\n",
       "<table border=\"1\" class=\"dataframe\">\n",
       "  <thead>\n",
       "    <tr style=\"text-align: right;\">\n",
       "      <th></th>\n",
       "      <th>Player</th>\n",
       "      <th>Tm</th>\n",
       "      <th>2019-20</th>\n",
       "      <th>2020-21</th>\n",
       "      <th>2021-22</th>\n",
       "      <th>2022-23</th>\n",
       "      <th>2023-24</th>\n",
       "      <th>2024-25</th>\n",
       "      <th>Signed Using</th>\n",
       "      <th>Guaranteed</th>\n",
       "    </tr>\n",
       "  </thead>\n",
       "  <tbody>\n",
       "    <tr>\n",
       "      <th>0</th>\n",
       "      <td>Stephen Curry</td>\n",
       "      <td>GSW</td>\n",
       "      <td>40231758</td>\n",
       "      <td>43006362.0</td>\n",
       "      <td>45780966.0</td>\n",
       "      <td>NaN</td>\n",
       "      <td>NaN</td>\n",
       "      <td>NaN</td>\n",
       "      <td>Bird Rights</td>\n",
       "      <td>129019086</td>\n",
       "    </tr>\n",
       "    <tr>\n",
       "      <th>1</th>\n",
       "      <td>Chris Paul</td>\n",
       "      <td>OKC</td>\n",
       "      <td>38506482</td>\n",
       "      <td>41358814.0</td>\n",
       "      <td>44211146.0</td>\n",
       "      <td>NaN</td>\n",
       "      <td>NaN</td>\n",
       "      <td>NaN</td>\n",
       "      <td>NaN</td>\n",
       "      <td>124076442</td>\n",
       "    </tr>\n",
       "    <tr>\n",
       "      <th>2</th>\n",
       "      <td>Russell Westbrook</td>\n",
       "      <td>HOU</td>\n",
       "      <td>38178000</td>\n",
       "      <td>41006000.0</td>\n",
       "      <td>43848000.0</td>\n",
       "      <td>46662000.0</td>\n",
       "      <td>NaN</td>\n",
       "      <td>NaN</td>\n",
       "      <td>Bird Rights</td>\n",
       "      <td>123032000</td>\n",
       "    </tr>\n",
       "    <tr>\n",
       "      <th>3</th>\n",
       "      <td>John Wall</td>\n",
       "      <td>WAS</td>\n",
       "      <td>37800000</td>\n",
       "      <td>40824000.0</td>\n",
       "      <td>43848000.0</td>\n",
       "      <td>46872000.0</td>\n",
       "      <td>NaN</td>\n",
       "      <td>NaN</td>\n",
       "      <td>Bird Rights</td>\n",
       "      <td>122472000</td>\n",
       "    </tr>\n",
       "    <tr>\n",
       "      <th>4</th>\n",
       "      <td>James Harden</td>\n",
       "      <td>HOU</td>\n",
       "      <td>37800000</td>\n",
       "      <td>40824000.0</td>\n",
       "      <td>43848000.0</td>\n",
       "      <td>46872000.0</td>\n",
       "      <td>NaN</td>\n",
       "      <td>NaN</td>\n",
       "      <td>Bird Rights</td>\n",
       "      <td>122472000</td>\n",
       "    </tr>\n",
       "    <tr>\n",
       "      <th>5</th>\n",
       "      <td>LeBron James</td>\n",
       "      <td>LAL</td>\n",
       "      <td>37436858</td>\n",
       "      <td>39219565.0</td>\n",
       "      <td>41002273.0</td>\n",
       "      <td>NaN</td>\n",
       "      <td>NaN</td>\n",
       "      <td>NaN</td>\n",
       "      <td>NaN</td>\n",
       "      <td>76656423</td>\n",
       "    </tr>\n",
       "    <tr>\n",
       "      <th>6</th>\n",
       "      <td>Kevin Durant</td>\n",
       "      <td>BRK</td>\n",
       "      <td>37199000</td>\n",
       "      <td>39058950.0</td>\n",
       "      <td>40918900.0</td>\n",
       "      <td>42778850.0</td>\n",
       "      <td>NaN</td>\n",
       "      <td>NaN</td>\n",
       "      <td>NaN</td>\n",
       "      <td>117176850</td>\n",
       "    </tr>\n",
       "  </tbody>\n",
       "</table>\n",
       "</div>"
      ],
      "text/plain": [
       "              Player   Tm   2019-20     2020-21     2021-22     2022-23  \\\n",
       "0      Stephen Curry  GSW  40231758  43006362.0  45780966.0         NaN   \n",
       "1         Chris Paul  OKC  38506482  41358814.0  44211146.0         NaN   \n",
       "2  Russell Westbrook  HOU  38178000  41006000.0  43848000.0  46662000.0   \n",
       "3          John Wall  WAS  37800000  40824000.0  43848000.0  46872000.0   \n",
       "4       James Harden  HOU  37800000  40824000.0  43848000.0  46872000.0   \n",
       "5       LeBron James  LAL  37436858  39219565.0  41002273.0         NaN   \n",
       "6       Kevin Durant  BRK  37199000  39058950.0  40918900.0  42778850.0   \n",
       "\n",
       "   2023-24  2024-25 Signed Using  Guaranteed  \n",
       "0      NaN      NaN  Bird Rights   129019086  \n",
       "1      NaN      NaN          NaN   124076442  \n",
       "2      NaN      NaN  Bird Rights   123032000  \n",
       "3      NaN      NaN  Bird Rights   122472000  \n",
       "4      NaN      NaN  Bird Rights   122472000  \n",
       "5      NaN      NaN          NaN    76656423  \n",
       "6      NaN      NaN          NaN   117176850  "
      ]
     },
     "execution_count": 11,
     "metadata": {},
     "output_type": "execute_result"
    }
   ],
   "source": [
    "salaries.head(7)"
   ]
  },
  {
   "cell_type": "code",
   "execution_count": 6,
   "metadata": {},
   "outputs": [
    {
     "name": "stderr",
     "output_type": "stream",
     "text": [
      "/home/juan/anaconda3/envs/jmb_ds_projects/lib/python3.7/site-packages/ipykernel_launcher.py:2: FutureWarning: The default value of regex will change from True to False in a future version.\n",
      "  \n",
      "/home/juan/anaconda3/envs/jmb_ds_projects/lib/python3.7/site-packages/ipykernel_launcher.py:3: FutureWarning: The default value of regex will change from True to False in a future version.\n",
      "  This is separate from the ipykernel package so we can avoid doing imports until\n"
     ]
    }
   ],
   "source": [
    "# Algunos jugadores tienen un asterisco en su nombre\n",
    "stats['player'] = stats.player.str.replace(\"\\*\", \"\")\n",
    "advanced_stats['player'] = advanced_stats.player.str.replace(\"\\*\", \"\") "
   ]
  },
  {
   "cell_type": "code",
   "execution_count": 102,
   "metadata": {
    "colab": {
     "base_uri": "https://localhost:8080/"
    },
    "executionInfo": {
     "elapsed": 27086,
     "status": "ok",
     "timestamp": 1620157683507,
     "user": {
      "displayName": "Juan Manuel Barriola",
      "photoUrl": "https://lh3.googleusercontent.com/a-/AOh14GinJB4_02Tlqxd_BE6CRD1Br0qdF4ZtruC7whix1w=s64",
      "userId": "09047130094665524332"
     },
     "user_tz": 180
    },
    "id": "iHWpoL3XY7pC",
    "outputId": "59ec4f24-bce5-483c-ec71-820a4b44fd2f"
   },
   "outputs": [],
   "source": [
    "n_free_agents = free_agents.shape[0]"
   ]
  },
  {
   "cell_type": "code",
   "execution_count": 103,
   "metadata": {},
   "outputs": [],
   "source": [
    "full_stats = pd.merge(stats,advanced_stats)"
   ]
  },
  {
   "cell_type": "code",
   "execution_count": 104,
   "metadata": {},
   "outputs": [
    {
     "name": "stdout",
     "output_type": "stream",
     "text": [
      "651\n"
     ]
    }
   ],
   "source": [
    "print(stats.shape[0])"
   ]
  },
  {
   "cell_type": "code",
   "execution_count": 105,
   "metadata": {},
   "outputs": [
    {
     "name": "stdout",
     "output_type": "stream",
     "text": [
      "651\n"
     ]
    }
   ],
   "source": [
    "print(full_stats.shape[0])"
   ]
  },
  {
   "cell_type": "code",
   "execution_count": 106,
   "metadata": {},
   "outputs": [],
   "source": [
    "def consolidate_multiteam_players_stats(stats):\n",
    "    traded_players = stats.groupby('player').agg(n = ('team_id','nunique'))\\\n",
    "                          .reset_index().query('n > 1').player.to_list()\n",
    "    stats = stats[(~stats.player.isin(traded_players))|((stats.player.isin(traded_players))\n",
    "                                                        &(stats.team_id=='TOT'))]\n",
    "    return stats"
   ]
  },
  {
   "cell_type": "code",
   "execution_count": 107,
   "metadata": {},
   "outputs": [],
   "source": [
    "full_stats = consolidate_multiteam_players_stats(full_stats)"
   ]
  },
  {
   "cell_type": "code",
   "execution_count": 108,
   "metadata": {},
   "outputs": [],
   "source": [
    "free_agents_stats = pd.merge(free_agents, full_stats, how='left')"
   ]
  },
  {
   "cell_type": "code",
   "execution_count": 109,
   "metadata": {},
   "outputs": [],
   "source": [
    "n_free_agents_stats = sum(~free_agents_stats.team_id.isna())"
   ]
  },
  {
   "cell_type": "code",
   "execution_count": 110,
   "metadata": {},
   "outputs": [
    {
     "name": "stdout",
     "output_type": "stream",
     "text": [
      "There are 120 free agents\n",
      "There are 119 free agents with stats\n"
     ]
    }
   ],
   "source": [
    "print(f\"There are {n_free_agents} free agents\")\n",
    "print(f\"There are {n_free_agents_stats} free agents with stats\")"
   ]
  },
  {
   "cell_type": "code",
   "execution_count": 111,
   "metadata": {},
   "outputs": [
    {
     "data": {
      "text/plain": [
       "<matplotlib.axes._subplots.AxesSubplot at 0x7fa429ec3240>"
      ]
     },
     "execution_count": 111,
     "metadata": {},
     "output_type": "execute_result"
    },
    {
     "data": {
      "image/png": "[encoded data removed]",
      "text/plain": [
       "<Figure size 432x288 with 1 Axes>"
      ]
     },
     "metadata": {
      "needs_background": "light"
     },
     "output_type": "display_data"
    }
   ],
   "source": [
    "free_agents_stats.plot.scatter(x='pts_per_g', y='mean_salary')"
   ]
  },
  {
   "cell_type": "code",
   "execution_count": 112,
   "metadata": {},
   "outputs": [],
   "source": [
    "free_agents_stats.to_csv(f'datasets/{YEAR}/' + 'free_agents_salaries_with_stats.csv', index=False)"
   ]
  },
  {
   "cell_type": "code",
   "execution_count": 16,
   "metadata": {},
   "outputs": [],
   "source": [
    "ls = glob.glob('datasets/*/free_agents_salaries_with_stats.csv')"
   ]
  },
  {
   "cell_type": "code",
   "execution_count": 18,
   "metadata": {},
   "outputs": [],
   "source": [
    "a = pd.concat([pd.read_csv(i) for i in ls]) "
   ]
  },
  {
   "cell_type": "code",
   "execution_count": 19,
   "metadata": {},
   "outputs": [
    {
     "data": {
      "text/html": [
       "<div>\n",
       "<style scoped>\n",
       "    .dataframe tbody tr th:only-of-type {\n",
       "        vertical-align: middle;\n",
       "    }\n",
       "\n",
       "    .dataframe tbody tr th {\n",
       "        vertical-align: top;\n",
       "    }\n",
       "\n",
       "    .dataframe thead th {\n",
       "        text-align: right;\n",
       "    }\n",
       "</style>\n",
       "<table border=\"1\" class=\"dataframe\">\n",
       "  <thead>\n",
       "    <tr style=\"text-align: right;\">\n",
       "      <th></th>\n",
       "      <th>player</th>\n",
       "      <th>mean_salary</th>\n",
       "      <th>full_contract</th>\n",
       "      <th>first_year_salary</th>\n",
       "      <th>free_agency_year</th>\n",
       "      <th>position</th>\n",
       "      <th>age</th>\n",
       "      <th>team_id</th>\n",
       "      <th>g</th>\n",
       "      <th>gs</th>\n",
       "      <th>...</th>\n",
       "      <th>ws-dum</th>\n",
       "      <th>ows</th>\n",
       "      <th>dws</th>\n",
       "      <th>ws</th>\n",
       "      <th>ws_per_48</th>\n",
       "      <th>bpm-dum</th>\n",
       "      <th>obpm</th>\n",
       "      <th>dbpm</th>\n",
       "      <th>bpm</th>\n",
       "      <th>vorp</th>\n",
       "    </tr>\n",
       "  </thead>\n",
       "  <tbody>\n",
       "    <tr>\n",
       "      <th>0</th>\n",
       "      <td>Lavoy Allen</td>\n",
       "      <td>3000000.0</td>\n",
       "      <td>6000000.0</td>\n",
       "      <td>3000000.0</td>\n",
       "      <td>2012</td>\n",
       "      <td>PF</td>\n",
       "      <td>22.0</td>\n",
       "      <td>PHI</td>\n",
       "      <td>41.0</td>\n",
       "      <td>15.0</td>\n",
       "      <td>...</td>\n",
       "      <td>NaN</td>\n",
       "      <td>0.4</td>\n",
       "      <td>1.2</td>\n",
       "      <td>1.6</td>\n",
       "      <td>0.124</td>\n",
       "      <td>NaN</td>\n",
       "      <td>-2.8</td>\n",
       "      <td>1.0</td>\n",
       "      <td>-1.7</td>\n",
       "      <td>0.0</td>\n",
       "    </tr>\n",
       "    <tr>\n",
       "      <th>1</th>\n",
       "      <td>Ray Allen</td>\n",
       "      <td>3159525.0</td>\n",
       "      <td>6319050.0</td>\n",
       "      <td>3090000.0</td>\n",
       "      <td>2012</td>\n",
       "      <td>SG</td>\n",
       "      <td>36.0</td>\n",
       "      <td>BOS</td>\n",
       "      <td>46.0</td>\n",
       "      <td>42.0</td>\n",
       "      <td>...</td>\n",
       "      <td>NaN</td>\n",
       "      <td>2.5</td>\n",
       "      <td>2.2</td>\n",
       "      <td>4.7</td>\n",
       "      <td>0.145</td>\n",
       "      <td>NaN</td>\n",
       "      <td>1.5</td>\n",
       "      <td>0.7</td>\n",
       "      <td>2.2</td>\n",
       "      <td>1.6</td>\n",
       "    </tr>\n",
       "    <tr>\n",
       "      <th>2</th>\n",
       "      <td>Louis Amundson</td>\n",
       "      <td>1069509.0</td>\n",
       "      <td>1069509.0</td>\n",
       "      <td>1069509.0</td>\n",
       "      <td>2012</td>\n",
       "      <td>NaN</td>\n",
       "      <td>NaN</td>\n",
       "      <td>NaN</td>\n",
       "      <td>NaN</td>\n",
       "      <td>NaN</td>\n",
       "      <td>...</td>\n",
       "      <td>NaN</td>\n",
       "      <td>NaN</td>\n",
       "      <td>NaN</td>\n",
       "      <td>NaN</td>\n",
       "      <td>NaN</td>\n",
       "      <td>NaN</td>\n",
       "      <td>NaN</td>\n",
       "      <td>NaN</td>\n",
       "      <td>NaN</td>\n",
       "      <td>NaN</td>\n",
       "    </tr>\n",
       "    <tr>\n",
       "      <th>3</th>\n",
       "      <td>Alan Anderson</td>\n",
       "      <td>885120.0</td>\n",
       "      <td>885120.0</td>\n",
       "      <td>885120.0</td>\n",
       "      <td>2012</td>\n",
       "      <td>SF</td>\n",
       "      <td>29.0</td>\n",
       "      <td>TOR</td>\n",
       "      <td>17.0</td>\n",
       "      <td>12.0</td>\n",
       "      <td>...</td>\n",
       "      <td>NaN</td>\n",
       "      <td>0.1</td>\n",
       "      <td>0.2</td>\n",
       "      <td>0.3</td>\n",
       "      <td>0.032</td>\n",
       "      <td>NaN</td>\n",
       "      <td>-1.7</td>\n",
       "      <td>-1.3</td>\n",
       "      <td>-3.0</td>\n",
       "      <td>-0.1</td>\n",
       "    </tr>\n",
       "    <tr>\n",
       "      <th>4</th>\n",
       "      <td>Ryan Anderson</td>\n",
       "      <td>8500000.0</td>\n",
       "      <td>34000000.0</td>\n",
       "      <td>8700000.0</td>\n",
       "      <td>2012</td>\n",
       "      <td>PF</td>\n",
       "      <td>23.0</td>\n",
       "      <td>ORL</td>\n",
       "      <td>61.0</td>\n",
       "      <td>61.0</td>\n",
       "      <td>...</td>\n",
       "      <td>NaN</td>\n",
       "      <td>7.0</td>\n",
       "      <td>1.9</td>\n",
       "      <td>8.9</td>\n",
       "      <td>0.219</td>\n",
       "      <td>NaN</td>\n",
       "      <td>5.2</td>\n",
       "      <td>-1.1</td>\n",
       "      <td>4.0</td>\n",
       "      <td>3.0</td>\n",
       "    </tr>\n",
       "    <tr>\n",
       "      <th>...</th>\n",
       "      <td>...</td>\n",
       "      <td>...</td>\n",
       "      <td>...</td>\n",
       "      <td>...</td>\n",
       "      <td>...</td>\n",
       "      <td>...</td>\n",
       "      <td>...</td>\n",
       "      <td>...</td>\n",
       "      <td>...</td>\n",
       "      <td>...</td>\n",
       "      <td>...</td>\n",
       "      <td>...</td>\n",
       "      <td>...</td>\n",
       "      <td>...</td>\n",
       "      <td>...</td>\n",
       "      <td>...</td>\n",
       "      <td>...</td>\n",
       "      <td>...</td>\n",
       "      <td>...</td>\n",
       "      <td>...</td>\n",
       "      <td>...</td>\n",
       "    </tr>\n",
       "    <tr>\n",
       "      <th>127</th>\n",
       "      <td>Josh Smith</td>\n",
       "      <td>5400000.0</td>\n",
       "      <td>21600000.0</td>\n",
       "      <td>5400000.0</td>\n",
       "      <td>2016</td>\n",
       "      <td>PF</td>\n",
       "      <td>30.0</td>\n",
       "      <td>TOT</td>\n",
       "      <td>55.0</td>\n",
       "      <td>7.0</td>\n",
       "      <td>...</td>\n",
       "      <td>NaN</td>\n",
       "      <td>-1.2</td>\n",
       "      <td>1.2</td>\n",
       "      <td>0.0</td>\n",
       "      <td>0.000</td>\n",
       "      <td>NaN</td>\n",
       "      <td>-3.5</td>\n",
       "      <td>0.4</td>\n",
       "      <td>-3.1</td>\n",
       "      <td>-0.2</td>\n",
       "    </tr>\n",
       "    <tr>\n",
       "      <th>128</th>\n",
       "      <td>Lou Amundson</td>\n",
       "      <td>1551659.0</td>\n",
       "      <td>1551659.0</td>\n",
       "      <td>1551659.0</td>\n",
       "      <td>2016</td>\n",
       "      <td>PF</td>\n",
       "      <td>33.0</td>\n",
       "      <td>NYK</td>\n",
       "      <td>29.0</td>\n",
       "      <td>0.0</td>\n",
       "      <td>...</td>\n",
       "      <td>NaN</td>\n",
       "      <td>-0.3</td>\n",
       "      <td>0.2</td>\n",
       "      <td>-0.1</td>\n",
       "      <td>-0.014</td>\n",
       "      <td>NaN</td>\n",
       "      <td>-6.7</td>\n",
       "      <td>-0.2</td>\n",
       "      <td>-6.9</td>\n",
       "      <td>-0.3</td>\n",
       "    </tr>\n",
       "    <tr>\n",
       "      <th>129</th>\n",
       "      <td>Marcelo Huertas</td>\n",
       "      <td>1533750.0</td>\n",
       "      <td>3067500.0</td>\n",
       "      <td>1500000.0</td>\n",
       "      <td>2016</td>\n",
       "      <td>PG</td>\n",
       "      <td>32.0</td>\n",
       "      <td>LAL</td>\n",
       "      <td>53.0</td>\n",
       "      <td>0.0</td>\n",
       "      <td>...</td>\n",
       "      <td>NaN</td>\n",
       "      <td>-0.2</td>\n",
       "      <td>0.1</td>\n",
       "      <td>-0.1</td>\n",
       "      <td>-0.006</td>\n",
       "      <td>NaN</td>\n",
       "      <td>-2.7</td>\n",
       "      <td>-2.2</td>\n",
       "      <td>-5.0</td>\n",
       "      <td>-0.7</td>\n",
       "    </tr>\n",
       "    <tr>\n",
       "      <th>130</th>\n",
       "      <td>Phil Pressey</td>\n",
       "      <td>35000.0</td>\n",
       "      <td>35000.0</td>\n",
       "      <td>35000.0</td>\n",
       "      <td>2016</td>\n",
       "      <td>PG</td>\n",
       "      <td>24.0</td>\n",
       "      <td>TOT</td>\n",
       "      <td>23.0</td>\n",
       "      <td>0.0</td>\n",
       "      <td>...</td>\n",
       "      <td>NaN</td>\n",
       "      <td>-0.4</td>\n",
       "      <td>0.3</td>\n",
       "      <td>-0.1</td>\n",
       "      <td>-0.017</td>\n",
       "      <td>NaN</td>\n",
       "      <td>-3.3</td>\n",
       "      <td>0.1</td>\n",
       "      <td>-3.2</td>\n",
       "      <td>-0.1</td>\n",
       "    </tr>\n",
       "    <tr>\n",
       "      <th>131</th>\n",
       "      <td>Justin Hamilton</td>\n",
       "      <td>3000000.0</td>\n",
       "      <td>6000000.0</td>\n",
       "      <td>3000000.0</td>\n",
       "      <td>2016</td>\n",
       "      <td>NaN</td>\n",
       "      <td>NaN</td>\n",
       "      <td>NaN</td>\n",
       "      <td>NaN</td>\n",
       "      <td>NaN</td>\n",
       "      <td>...</td>\n",
       "      <td>NaN</td>\n",
       "      <td>NaN</td>\n",
       "      <td>NaN</td>\n",
       "      <td>NaN</td>\n",
       "      <td>NaN</td>\n",
       "      <td>NaN</td>\n",
       "      <td>NaN</td>\n",
       "      <td>NaN</td>\n",
       "      <td>NaN</td>\n",
       "      <td>NaN</td>\n",
       "    </tr>\n",
       "  </tbody>\n",
       "</table>\n",
       "<p>1171 rows × 56 columns</p>\n",
       "</div>"
      ],
      "text/plain": [
       "              player  mean_salary  full_contract  first_year_salary  \\\n",
       "0    Lavoy Allen      3000000.0    6000000.0      3000000.0           \n",
       "1    Ray Allen        3159525.0    6319050.0      3090000.0           \n",
       "2    Louis Amundson   1069509.0    1069509.0      1069509.0           \n",
       "3    Alan Anderson    885120.0     885120.0       885120.0            \n",
       "4    Ryan Anderson    8500000.0    34000000.0     8700000.0           \n",
       "..             ...          ...           ...           ...           \n",
       "127  Josh Smith       5400000.0    21600000.0     5400000.0           \n",
       "128  Lou Amundson     1551659.0    1551659.0      1551659.0           \n",
       "129  Marcelo Huertas  1533750.0    3067500.0      1500000.0           \n",
       "130  Phil Pressey     35000.0      35000.0        35000.0             \n",
       "131  Justin Hamilton  3000000.0    6000000.0      3000000.0           \n",
       "\n",
       "     free_agency_year position   age team_id     g    gs  ...  ws-dum  ows  \\\n",
       "0    2012              PF       22.0  PHI     41.0  15.0  ... NaN      0.4   \n",
       "1    2012              SG       36.0  BOS     46.0  42.0  ... NaN      2.5   \n",
       "2    2012              NaN     NaN    NaN    NaN   NaN    ... NaN     NaN    \n",
       "3    2012              SF       29.0  TOR     17.0  12.0  ... NaN      0.1   \n",
       "4    2012              PF       23.0  ORL     61.0  61.0  ... NaN      7.0   \n",
       "..    ...              ..        ...  ...      ...   ...  ...  ..      ...   \n",
       "127  2016              PF       30.0  TOT     55.0  7.0   ... NaN     -1.2   \n",
       "128  2016              PF       33.0  NYK     29.0  0.0   ... NaN     -0.3   \n",
       "129  2016              PG       32.0  LAL     53.0  0.0   ... NaN     -0.2   \n",
       "130  2016              PG       24.0  TOT     23.0  0.0   ... NaN     -0.4   \n",
       "131  2016              NaN     NaN    NaN    NaN   NaN    ... NaN     NaN    \n",
       "\n",
       "     dws   ws  ws_per_48  bpm-dum  obpm  dbpm  bpm  vorp  \n",
       "0    1.2  1.6  0.124     NaN      -2.8   1.0  -1.7  0.0   \n",
       "1    2.2  4.7  0.145     NaN       1.5   0.7   2.2  1.6   \n",
       "2   NaN  NaN  NaN        NaN      NaN   NaN   NaN  NaN    \n",
       "3    0.2  0.3  0.032     NaN      -1.7  -1.3  -3.0 -0.1   \n",
       "4    1.9  8.9  0.219     NaN       5.2  -1.1   4.0  3.0   \n",
       "..   ...  ...    ...      ..       ...   ...   ...  ...   \n",
       "127  1.2  0.0  0.000     NaN      -3.5   0.4  -3.1 -0.2   \n",
       "128  0.2 -0.1 -0.014     NaN      -6.7  -0.2  -6.9 -0.3   \n",
       "129  0.1 -0.1 -0.006     NaN      -2.7  -2.2  -5.0 -0.7   \n",
       "130  0.3 -0.1 -0.017     NaN      -3.3   0.1  -3.2 -0.1   \n",
       "131 NaN  NaN  NaN        NaN      NaN   NaN   NaN  NaN    \n",
       "\n",
       "[1171 rows x 56 columns]"
      ]
     },
     "execution_count": 19,
     "metadata": {},
     "output_type": "execute_result"
    }
   ],
   "source": [
    "a"
   ]
  },
  {
   "cell_type": "code",
   "execution_count": null,
   "metadata": {},
   "outputs": [],
   "source": []
  }
 ],
 "metadata": {
  "colab": {
   "collapsed_sections": [],
   "name": "create_df.ipynb",
   "provenance": [],
   "toc_visible": true
  },
  "kernelspec": {
   "display_name": "Python 3.7.3 64-bit",
   "language": "python",
   "name": "python373jvsc74a57bd0c15586da037acc71fa8586ddf198fb104d8beefbe40d3b778cb0e3e48c97203b"
  },
  "language_info": {
   "codemirror_mode": {
    "name": "ipython",
    "version": 3
   },
   "file_extension": ".py",
   "mimetype": "text/x-python",
   "name": "python",
   "nbconvert_exporter": "python",
   "pygments_lexer": "ipython3",
   "version": "3.7.3"
  },
  "metadata": {
   "interpreter": {
    "hash": "c15586da037acc71fa8586ddf198fb104d8beefbe40d3b778cb0e3e48c97203b"
   }
  },
  "varInspector": {
   "cols": {
    "lenName": 16,
    "lenType": 16,
    "lenVar": 40
   },
   "kernels_config": {
    "python": {
     "delete_cmd_postfix": "",
     "delete_cmd_prefix": "del ",
     "library": "var_list.py",
     "varRefreshCmd": "print(var_dic_list())"
    },
    "r": {
     "delete_cmd_postfix": ") ",
     "delete_cmd_prefix": "rm(",
     "library": "var_list.r",
     "varRefreshCmd": "cat(var_dic_list()) "
    }
   },
   "types_to_exclude": [
    "module",
    "function",
    "builtin_function_or_method",
    "instance",
    "_Feature"
   ],
   "window_display": false
  }
 },
 "nbformat": 4,
 "nbformat_minor": 1
}
